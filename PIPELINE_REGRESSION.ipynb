{
 "cells": [
  {
   "cell_type": "code",
   "execution_count": 1,
   "id": "4e079de6",
   "metadata": {},
   "outputs": [],
   "source": [
    "from sklearn.model_selection import train_test_split\n",
    "from sklearn.compose import ColumnTransformer\n",
    "from sklearn.impute import SimpleImputer\n",
    "from sklearn.preprocessing import OneHotEncoder\n",
    "from sklearn.preprocessing import StandardScaler\n",
    "from sklearn.pipeline import Pipeline,make_pipeline\n",
    "from sklearn.feature_selection import SelectKBest,chi2\n",
    "from sklearn.tree import DecisionTreeClassifier\n",
    "import numpy as np\n",
    "import pandas as pd\n",
    "from sklearn.compose import make_column_selector as selector"
   ]
  },
  {
   "cell_type": "code",
   "execution_count": 2,
   "id": "78563f4a",
   "metadata": {},
   "outputs": [],
   "source": [
    "data=pd.read_csv('regression_data.csv')"
   ]
  },
  {
   "cell_type": "code",
   "execution_count": 30,
   "id": "cfcc28cb",
   "metadata": {},
   "outputs": [],
   "source": [
    "#data.to_csv('regression_data.csv',index=False)"
   ]
  },
  {
   "cell_type": "code",
   "execution_count": 3,
   "id": "8ad3ba51",
   "metadata": {},
   "outputs": [
    {
     "data": {
      "text/plain": [
       "Index(['BidsPortfolioManager', 'BidsApi', 'BidsManual', 'Age', 'AppliedAmount',\n",
       "       'Amount', 'Interest', 'LoanDuration', 'MonthlyPayment',\n",
       "       'EmploymentDurationCurrentEmployer', 'IncomeTotal',\n",
       "       'ExistingLiabilities', 'LiabilitiesTotal', 'RefinanceLiabilities',\n",
       "       'DebtToIncome', 'FreeCash', 'MonthlyPaymentDay', 'CreditScoreEeMini',\n",
       "       'PrincipalPaymentsMade', 'InterestAndPenaltyPaymentsMade',\n",
       "       'PrincipalBalance', 'InterestAndPenaltyBalance',\n",
       "       'NoOfPreviousLoansBeforeLoan', 'AmountOfPreviousLoansBeforeLoan',\n",
       "       'PreviousEarlyRepaymentsCountBeforeLoan', 'EMI', 'ELA', 'ROI',\n",
       "       'NewCreditCustomer', 'VerificationType', 'LanguageCode', 'Gender',\n",
       "       'UseOfLoan', 'Education', 'MaritalStatus', 'EmploymentStatus',\n",
       "       'OccupationArea', 'HomeOwnershipType', 'RecoveryStage', 'Rating',\n",
       "       'Restructured', 'CreditScoreEsMicroL', 'Default'],\n",
       "      dtype='object')"
      ]
     },
     "execution_count": 3,
     "metadata": {},
     "output_type": "execute_result"
    }
   ],
   "source": [
    "data.columns"
   ]
  },
  {
   "cell_type": "code",
   "execution_count": 11,
   "id": "dd7dee01",
   "metadata": {},
   "outputs": [
    {
     "data": {
      "text/html": [
       "<div>\n",
       "<style scoped>\n",
       "    .dataframe tbody tr th:only-of-type {\n",
       "        vertical-align: middle;\n",
       "    }\n",
       "\n",
       "    .dataframe tbody tr th {\n",
       "        vertical-align: top;\n",
       "    }\n",
       "\n",
       "    .dataframe thead th {\n",
       "        text-align: right;\n",
       "    }\n",
       "</style>\n",
       "<table border=\"1\" class=\"dataframe\">\n",
       "  <thead>\n",
       "    <tr style=\"text-align: right;\">\n",
       "      <th></th>\n",
       "      <th>BidsPortfolioManager</th>\n",
       "      <th>BidsApi</th>\n",
       "      <th>BidsManual</th>\n",
       "      <th>Age</th>\n",
       "      <th>AppliedAmount</th>\n",
       "      <th>Amount</th>\n",
       "      <th>Interest</th>\n",
       "      <th>LoanDuration</th>\n",
       "      <th>MonthlyPayment</th>\n",
       "      <th>EmploymentDurationCurrentEmployer</th>\n",
       "      <th>...</th>\n",
       "      <th>Education</th>\n",
       "      <th>MaritalStatus</th>\n",
       "      <th>EmploymentStatus</th>\n",
       "      <th>OccupationArea</th>\n",
       "      <th>HomeOwnershipType</th>\n",
       "      <th>RecoveryStage</th>\n",
       "      <th>Rating</th>\n",
       "      <th>Restructured</th>\n",
       "      <th>CreditScoreEsMicroL</th>\n",
       "      <th>Default</th>\n",
       "    </tr>\n",
       "  </thead>\n",
       "  <tbody>\n",
       "    <tr>\n",
       "      <th>0</th>\n",
       "      <td>0.0</td>\n",
       "      <td>0.0</td>\n",
       "      <td>115.0410</td>\n",
       "      <td>61</td>\n",
       "      <td>319.5582</td>\n",
       "      <td>115.0408</td>\n",
       "      <td>30.00</td>\n",
       "      <td>12</td>\n",
       "      <td>101.13</td>\n",
       "      <td>UpTo3Years</td>\n",
       "      <td>...</td>\n",
       "      <td>Vocational education</td>\n",
       "      <td>other</td>\n",
       "      <td>Fully employed</td>\n",
       "      <td>NaN</td>\n",
       "      <td>other</td>\n",
       "      <td>Recovery</td>\n",
       "      <td>HR</td>\n",
       "      <td>False</td>\n",
       "      <td>M</td>\n",
       "      <td>Not Defaulter</td>\n",
       "    </tr>\n",
       "    <tr>\n",
       "      <th>1</th>\n",
       "      <td>0.0</td>\n",
       "      <td>0.0</td>\n",
       "      <td>140.6057</td>\n",
       "      <td>48</td>\n",
       "      <td>191.7349</td>\n",
       "      <td>140.6057</td>\n",
       "      <td>25.00</td>\n",
       "      <td>1</td>\n",
       "      <td>101.13</td>\n",
       "      <td>MoreThan5Years</td>\n",
       "      <td>...</td>\n",
       "      <td>Higher education</td>\n",
       "      <td>Married</td>\n",
       "      <td>Fully employed</td>\n",
       "      <td>Other</td>\n",
       "      <td>other</td>\n",
       "      <td>Recovery</td>\n",
       "      <td>HR</td>\n",
       "      <td>False</td>\n",
       "      <td>M</td>\n",
       "      <td>Not Defaulter</td>\n",
       "    </tr>\n",
       "    <tr>\n",
       "      <th>2</th>\n",
       "      <td>0.0</td>\n",
       "      <td>0.0</td>\n",
       "      <td>319.5580</td>\n",
       "      <td>58</td>\n",
       "      <td>319.5582</td>\n",
       "      <td>319.5409</td>\n",
       "      <td>25.00</td>\n",
       "      <td>20</td>\n",
       "      <td>101.13</td>\n",
       "      <td>Other</td>\n",
       "      <td>...</td>\n",
       "      <td>Secondary education</td>\n",
       "      <td>other</td>\n",
       "      <td>Fully employed</td>\n",
       "      <td>Mining</td>\n",
       "      <td>other</td>\n",
       "      <td>Recovery</td>\n",
       "      <td>HR</td>\n",
       "      <td>True</td>\n",
       "      <td>M</td>\n",
       "      <td>Defaulter</td>\n",
       "    </tr>\n",
       "    <tr>\n",
       "      <th>3</th>\n",
       "      <td>0.0</td>\n",
       "      <td>0.0</td>\n",
       "      <td>57.5205</td>\n",
       "      <td>23</td>\n",
       "      <td>127.8233</td>\n",
       "      <td>57.5205</td>\n",
       "      <td>45.00</td>\n",
       "      <td>15</td>\n",
       "      <td>101.13</td>\n",
       "      <td>UpTo3Years</td>\n",
       "      <td>...</td>\n",
       "      <td>Basic education</td>\n",
       "      <td>Cohabitant</td>\n",
       "      <td>Self-employed_Entrepreneur_Retiree</td>\n",
       "      <td>Processing</td>\n",
       "      <td>other</td>\n",
       "      <td>Recovery</td>\n",
       "      <td>HR</td>\n",
       "      <td>False</td>\n",
       "      <td>M</td>\n",
       "      <td>Not Defaulter</td>\n",
       "    </tr>\n",
       "    <tr>\n",
       "      <th>4</th>\n",
       "      <td>0.0</td>\n",
       "      <td>0.0</td>\n",
       "      <td>319.5582</td>\n",
       "      <td>25</td>\n",
       "      <td>319.5582</td>\n",
       "      <td>319.5436</td>\n",
       "      <td>30.00</td>\n",
       "      <td>12</td>\n",
       "      <td>101.13</td>\n",
       "      <td>UpTo3Years</td>\n",
       "      <td>...</td>\n",
       "      <td>Secondary education</td>\n",
       "      <td>Single</td>\n",
       "      <td>Fully employed</td>\n",
       "      <td>NaN</td>\n",
       "      <td>other</td>\n",
       "      <td>Recovery</td>\n",
       "      <td>HR</td>\n",
       "      <td>False</td>\n",
       "      <td>M</td>\n",
       "      <td>Defaulter</td>\n",
       "    </tr>\n",
       "    <tr>\n",
       "      <th>...</th>\n",
       "      <td>...</td>\n",
       "      <td>...</td>\n",
       "      <td>...</td>\n",
       "      <td>...</td>\n",
       "      <td>...</td>\n",
       "      <td>...</td>\n",
       "      <td>...</td>\n",
       "      <td>...</td>\n",
       "      <td>...</td>\n",
       "      <td>...</td>\n",
       "      <td>...</td>\n",
       "      <td>...</td>\n",
       "      <td>...</td>\n",
       "      <td>...</td>\n",
       "      <td>...</td>\n",
       "      <td>...</td>\n",
       "      <td>...</td>\n",
       "      <td>...</td>\n",
       "      <td>...</td>\n",
       "      <td>...</td>\n",
       "      <td>...</td>\n",
       "    </tr>\n",
       "    <tr>\n",
       "      <th>77389</th>\n",
       "      <td>2515.0</td>\n",
       "      <td>0.0</td>\n",
       "      <td>485.0000</td>\n",
       "      <td>37</td>\n",
       "      <td>3000.0000</td>\n",
       "      <td>3000.0000</td>\n",
       "      <td>31.01</td>\n",
       "      <td>60</td>\n",
       "      <td>107.68</td>\n",
       "      <td>MoreThan5Years</td>\n",
       "      <td>...</td>\n",
       "      <td>Vocational education</td>\n",
       "      <td>Cohabitant</td>\n",
       "      <td>Fully employed</td>\n",
       "      <td>Processing</td>\n",
       "      <td>Council house</td>\n",
       "      <td>Recovery</td>\n",
       "      <td>D</td>\n",
       "      <td>False</td>\n",
       "      <td>M</td>\n",
       "      <td>Defaulter</td>\n",
       "    </tr>\n",
       "    <tr>\n",
       "      <th>77390</th>\n",
       "      <td>1880.0</td>\n",
       "      <td>0.0</td>\n",
       "      <td>1120.0000</td>\n",
       "      <td>35</td>\n",
       "      <td>3000.0000</td>\n",
       "      <td>3000.0000</td>\n",
       "      <td>18.25</td>\n",
       "      <td>60</td>\n",
       "      <td>85.33</td>\n",
       "      <td>MoreThan5Years</td>\n",
       "      <td>...</td>\n",
       "      <td>Vocational education</td>\n",
       "      <td>Cohabitant</td>\n",
       "      <td>Fully employed</td>\n",
       "      <td>Construction</td>\n",
       "      <td>Owner</td>\n",
       "      <td>Collection</td>\n",
       "      <td>B</td>\n",
       "      <td>False</td>\n",
       "      <td>M</td>\n",
       "      <td>Not Defaulter</td>\n",
       "    </tr>\n",
       "    <tr>\n",
       "      <th>77391</th>\n",
       "      <td>1975.0</td>\n",
       "      <td>0.0</td>\n",
       "      <td>525.0000</td>\n",
       "      <td>40</td>\n",
       "      <td>2500.0000</td>\n",
       "      <td>2500.0000</td>\n",
       "      <td>24.83</td>\n",
       "      <td>60</td>\n",
       "      <td>80.42</td>\n",
       "      <td>MoreThan5Years</td>\n",
       "      <td>...</td>\n",
       "      <td>Vocational education</td>\n",
       "      <td>other</td>\n",
       "      <td>Self-employed_Entrepreneur_Retiree</td>\n",
       "      <td>Retail and wholesale</td>\n",
       "      <td>Owner</td>\n",
       "      <td>Recovery</td>\n",
       "      <td>HR</td>\n",
       "      <td>False</td>\n",
       "      <td>M</td>\n",
       "      <td>Defaulter</td>\n",
       "    </tr>\n",
       "    <tr>\n",
       "      <th>77392</th>\n",
       "      <td>1840.0</td>\n",
       "      <td>0.0</td>\n",
       "      <td>1160.0000</td>\n",
       "      <td>47</td>\n",
       "      <td>3000.0000</td>\n",
       "      <td>3000.0000</td>\n",
       "      <td>17.74</td>\n",
       "      <td>60</td>\n",
       "      <td>84.51</td>\n",
       "      <td>MoreThan5Years</td>\n",
       "      <td>...</td>\n",
       "      <td>Higher education</td>\n",
       "      <td>other</td>\n",
       "      <td>Fully employed</td>\n",
       "      <td>Hospitality and catering</td>\n",
       "      <td>Tenant_unfurnished propert</td>\n",
       "      <td>Recovery</td>\n",
       "      <td>B</td>\n",
       "      <td>True</td>\n",
       "      <td>M</td>\n",
       "      <td>Defaulter</td>\n",
       "    </tr>\n",
       "    <tr>\n",
       "      <th>77393</th>\n",
       "      <td>2990.0</td>\n",
       "      <td>0.0</td>\n",
       "      <td>10.0000</td>\n",
       "      <td>21</td>\n",
       "      <td>3000.0000</td>\n",
       "      <td>3000.0000</td>\n",
       "      <td>30.50</td>\n",
       "      <td>60</td>\n",
       "      <td>106.74</td>\n",
       "      <td>UpTo3Years</td>\n",
       "      <td>...</td>\n",
       "      <td>Secondary education</td>\n",
       "      <td>Cohabitant</td>\n",
       "      <td>Fully employed</td>\n",
       "      <td>Research</td>\n",
       "      <td>Living with parents</td>\n",
       "      <td>Recovery</td>\n",
       "      <td>HR</td>\n",
       "      <td>True</td>\n",
       "      <td>M</td>\n",
       "      <td>Defaulter</td>\n",
       "    </tr>\n",
       "  </tbody>\n",
       "</table>\n",
       "<p>77394 rows × 43 columns</p>\n",
       "</div>"
      ],
      "text/plain": [
       "       BidsPortfolioManager  BidsApi  BidsManual  Age  AppliedAmount  \\\n",
       "0                       0.0      0.0    115.0410   61       319.5582   \n",
       "1                       0.0      0.0    140.6057   48       191.7349   \n",
       "2                       0.0      0.0    319.5580   58       319.5582   \n",
       "3                       0.0      0.0     57.5205   23       127.8233   \n",
       "4                       0.0      0.0    319.5582   25       319.5582   \n",
       "...                     ...      ...         ...  ...            ...   \n",
       "77389                2515.0      0.0    485.0000   37      3000.0000   \n",
       "77390                1880.0      0.0   1120.0000   35      3000.0000   \n",
       "77391                1975.0      0.0    525.0000   40      2500.0000   \n",
       "77392                1840.0      0.0   1160.0000   47      3000.0000   \n",
       "77393                2990.0      0.0     10.0000   21      3000.0000   \n",
       "\n",
       "          Amount  Interest  LoanDuration  MonthlyPayment  \\\n",
       "0       115.0408     30.00            12          101.13   \n",
       "1       140.6057     25.00             1          101.13   \n",
       "2       319.5409     25.00            20          101.13   \n",
       "3        57.5205     45.00            15          101.13   \n",
       "4       319.5436     30.00            12          101.13   \n",
       "...          ...       ...           ...             ...   \n",
       "77389  3000.0000     31.01            60          107.68   \n",
       "77390  3000.0000     18.25            60           85.33   \n",
       "77391  2500.0000     24.83            60           80.42   \n",
       "77392  3000.0000     17.74            60           84.51   \n",
       "77393  3000.0000     30.50            60          106.74   \n",
       "\n",
       "      EmploymentDurationCurrentEmployer  ...             Education  \\\n",
       "0                            UpTo3Years  ...  Vocational education   \n",
       "1                        MoreThan5Years  ...      Higher education   \n",
       "2                                 Other  ...   Secondary education   \n",
       "3                            UpTo3Years  ...       Basic education   \n",
       "4                            UpTo3Years  ...   Secondary education   \n",
       "...                                 ...  ...                   ...   \n",
       "77389                    MoreThan5Years  ...  Vocational education   \n",
       "77390                    MoreThan5Years  ...  Vocational education   \n",
       "77391                    MoreThan5Years  ...  Vocational education   \n",
       "77392                    MoreThan5Years  ...      Higher education   \n",
       "77393                        UpTo3Years  ...   Secondary education   \n",
       "\n",
       "       MaritalStatus                    EmploymentStatus  \\\n",
       "0              other                      Fully employed   \n",
       "1            Married                      Fully employed   \n",
       "2              other                      Fully employed   \n",
       "3         Cohabitant  Self-employed_Entrepreneur_Retiree   \n",
       "4             Single                      Fully employed   \n",
       "...              ...                                 ...   \n",
       "77389     Cohabitant                      Fully employed   \n",
       "77390     Cohabitant                      Fully employed   \n",
       "77391          other  Self-employed_Entrepreneur_Retiree   \n",
       "77392          other                      Fully employed   \n",
       "77393     Cohabitant                      Fully employed   \n",
       "\n",
       "                 OccupationArea           HomeOwnershipType  RecoveryStage  \\\n",
       "0                           NaN                       other       Recovery   \n",
       "1                         Other                       other       Recovery   \n",
       "2                        Mining                       other       Recovery   \n",
       "3                    Processing                       other       Recovery   \n",
       "4                           NaN                       other       Recovery   \n",
       "...                         ...                         ...            ...   \n",
       "77389                Processing               Council house       Recovery   \n",
       "77390              Construction                       Owner     Collection   \n",
       "77391      Retail and wholesale                       Owner       Recovery   \n",
       "77392  Hospitality and catering  Tenant_unfurnished propert       Recovery   \n",
       "77393                  Research         Living with parents       Recovery   \n",
       "\n",
       "       Rating  Restructured  CreditScoreEsMicroL        Default  \n",
       "0          HR         False                    M  Not Defaulter  \n",
       "1          HR         False                    M  Not Defaulter  \n",
       "2          HR          True                    M      Defaulter  \n",
       "3          HR         False                    M  Not Defaulter  \n",
       "4          HR         False                    M      Defaulter  \n",
       "...       ...           ...                  ...            ...  \n",
       "77389       D         False                    M      Defaulter  \n",
       "77390       B         False                    M  Not Defaulter  \n",
       "77391      HR         False                    M      Defaulter  \n",
       "77392       B          True                    M      Defaulter  \n",
       "77393      HR          True                    M      Defaulter  \n",
       "\n",
       "[77394 rows x 43 columns]"
      ]
     },
     "execution_count": 11,
     "metadata": {},
     "output_type": "execute_result"
    }
   ],
   "source": [
    "data"
   ]
  },
  {
   "cell_type": "code",
   "execution_count": 4,
   "id": "04b99c6e",
   "metadata": {},
   "outputs": [
    {
     "data": {
      "text/plain": [
       "BidsPortfolioManager                      float64\n",
       "BidsApi                                   float64\n",
       "BidsManual                                float64\n",
       "Age                                         int64\n",
       "AppliedAmount                             float64\n",
       "Amount                                    float64\n",
       "Interest                                  float64\n",
       "LoanDuration                                int64\n",
       "MonthlyPayment                            float64\n",
       "EmploymentDurationCurrentEmployer          object\n",
       "IncomeTotal                               float64\n",
       "ExistingLiabilities                         int64\n",
       "LiabilitiesTotal                          float64\n",
       "RefinanceLiabilities                        int64\n",
       "DebtToIncome                              float64\n",
       "FreeCash                                  float64\n",
       "MonthlyPaymentDay                           int64\n",
       "CreditScoreEeMini                         float64\n",
       "PrincipalPaymentsMade                     float64\n",
       "InterestAndPenaltyPaymentsMade            float64\n",
       "PrincipalBalance                          float64\n",
       "InterestAndPenaltyBalance                 float64\n",
       "NoOfPreviousLoansBeforeLoan               float64\n",
       "AmountOfPreviousLoansBeforeLoan           float64\n",
       "PreviousEarlyRepaymentsCountBeforeLoan      int64\n",
       "EMI                                       float64\n",
       "ELA                                       float64\n",
       "ROI                                       float64\n",
       "NewCreditCustomer                            bool\n",
       "VerificationType                           object\n",
       "LanguageCode                               object\n",
       "Gender                                     object\n",
       "UseOfLoan                                  object\n",
       "Education                                  object\n",
       "MaritalStatus                              object\n",
       "EmploymentStatus                           object\n",
       "OccupationArea                             object\n",
       "HomeOwnershipType                          object\n",
       "RecoveryStage                              object\n",
       "Rating                                     object\n",
       "Restructured                                 bool\n",
       "CreditScoreEsMicroL                        object\n",
       "Default                                    object\n",
       "dtype: object"
      ]
     },
     "execution_count": 4,
     "metadata": {},
     "output_type": "execute_result"
    }
   ],
   "source": [
    "data.dtypes"
   ]
  },
  {
   "cell_type": "code",
   "execution_count": 5,
   "id": "070cd42d",
   "metadata": {},
   "outputs": [
    {
     "data": {
      "text/plain": [
       "Index(['BidsPortfolioManager', 'BidsApi', 'BidsManual', 'Age', 'AppliedAmount',\n",
       "       'Amount', 'Interest', 'LoanDuration', 'MonthlyPayment', 'IncomeTotal',\n",
       "       'ExistingLiabilities', 'LiabilitiesTotal', 'RefinanceLiabilities',\n",
       "       'DebtToIncome', 'FreeCash', 'MonthlyPaymentDay', 'CreditScoreEeMini',\n",
       "       'PrincipalPaymentsMade', 'InterestAndPenaltyPaymentsMade',\n",
       "       'PrincipalBalance', 'InterestAndPenaltyBalance',\n",
       "       'NoOfPreviousLoansBeforeLoan', 'AmountOfPreviousLoansBeforeLoan',\n",
       "       'PreviousEarlyRepaymentsCountBeforeLoan', 'EMI', 'ELA', 'ROI'],\n",
       "      dtype='object')"
      ]
     },
     "execution_count": 5,
     "metadata": {},
     "output_type": "execute_result"
    }
   ],
   "source": [
    "num_cols=data.select_dtypes(include=['int','float']).columns\n",
    "num_cols"
   ]
  },
  {
   "cell_type": "code",
   "execution_count": 6,
   "id": "aecfec7a",
   "metadata": {},
   "outputs": [
    {
     "data": {
      "text/plain": [
       "Index(['EmploymentDurationCurrentEmployer', 'NewCreditCustomer',\n",
       "       'VerificationType', 'LanguageCode', 'Gender', 'UseOfLoan', 'Education',\n",
       "       'MaritalStatus', 'EmploymentStatus', 'OccupationArea',\n",
       "       'HomeOwnershipType', 'RecoveryStage', 'Rating', 'Restructured',\n",
       "       'CreditScoreEsMicroL', 'Default'],\n",
       "      dtype='object')"
      ]
     },
     "execution_count": 6,
     "metadata": {},
     "output_type": "execute_result"
    }
   ],
   "source": [
    "cat_cols=data.select_dtypes(exclude=['int','float']).columns\n",
    "cat_cols"
   ]
  },
  {
   "cell_type": "code",
   "execution_count": 7,
   "id": "29c61f1d",
   "metadata": {},
   "outputs": [],
   "source": [
    "#0 Not set 1 Income unverified 2 Income unverified, cross-referenced by phone 3 Income verified 4 Income and expenses verified"
   ]
  },
  {
   "cell_type": "code",
   "execution_count": 8,
   "id": "9e10029a",
   "metadata": {},
   "outputs": [
    {
     "data": {
      "text/plain": [
       "Income and expenses verified                   41473\n",
       "Income unverified                              25626\n",
       "Income verified                                 8460\n",
       "Income unverified cross-referenced by phone     1827\n",
       "Not set                                            8\n",
       "Name: VerificationType, dtype: int64"
      ]
     },
     "execution_count": 8,
     "metadata": {},
     "output_type": "execute_result"
    }
   ],
   "source": [
    "data['VerificationType'] = data['VerificationType'].map({0.0: \"Not set\",1.0:\"Income unverified\",2.0:\"Income unverified cross-referenced by phone\",3.0:\"Income verified\",4.0:\"Income and expenses verified\"})\n",
    "data['VerificationType'].value_counts()"
   ]
  },
  {
   "cell_type": "code",
   "execution_count": 9,
   "id": "876abae9",
   "metadata": {},
   "outputs": [
    {
     "data": {
      "text/plain": [
       "Defaulter        42794\n",
       "Not Defaulter    34600\n",
       "Name: Default, dtype: int64"
      ]
     },
     "execution_count": 9,
     "metadata": {},
     "output_type": "execute_result"
    }
   ],
   "source": [
    "data['Default']=data['Default'].map({1:\"Defaulter\",0:\"Not Defaulter\"})\n",
    "data['Default'].value_counts()"
   ]
  },
  {
   "cell_type": "code",
   "execution_count": 10,
   "id": "2abad4ec",
   "metadata": {},
   "outputs": [
    {
     "data": {
      "text/plain": [
       "estonia    33239\n",
       "Finish     20302\n",
       "spanish    16407\n",
       "other       7446\n",
       "Name: LanguageCode, dtype: int64"
      ]
     },
     "execution_count": 10,
     "metadata": {},
     "output_type": "execute_result"
    }
   ],
   "source": [
    "data['LanguageCode']=data['LanguageCode'].map({0:\"estonia\",2:\"Finish\",3:\"spanish\",1:\"other\"})\n",
    "data['LanguageCode'].value_counts()"
   ]
  },
  {
   "cell_type": "code",
   "execution_count": 11,
   "id": "0dc75ccc",
   "metadata": {},
   "outputs": [
    {
     "data": {
      "text/plain": [
       "Male         50742\n",
       "Woman        20927\n",
       "Undefined     5725\n",
       "Name: Gender, dtype: int64"
      ]
     },
     "execution_count": 11,
     "metadata": {},
     "output_type": "execute_result"
    }
   ],
   "source": [
    "data['Gender']=data['Gender'].map({0.0:\"Male\",1.0:\"Woman\",2.0:\"Undefined\"})\n",
    "data['Gender'].value_counts()"
   ]
  },
  {
   "cell_type": "code",
   "execution_count": 12,
   "id": "f83add9b",
   "metadata": {},
   "outputs": [],
   "source": [
    "# 0 Loan consolidation 1 Real estate 2 Home improvement 3 Business 4 Education \n",
    "# 5 Travel 6 Vehicle 7 Other 8 Health 101 Working capital financing \n",
    "# 102 Purchase of machinery equipment 103 Renovation of real estate\n",
    "# 104 Accounts receivable financing 105 Acquisition of means of transport\n",
    "# 106 Construction finance 107 Acquisition of stocks 108 Acquisition of real estate\n",
    "# 109 Guaranteeing obligation 110 Other business All codes in format 1XX are for\n",
    "# business loans that are not supported since October 2012"
   ]
  },
  {
   "cell_type": "code",
   "execution_count": 13,
   "id": "46d50e02",
   "metadata": {},
   "outputs": [],
   "source": [
    "#1 Married 2 Cohabitant 3 Single 4 Divorced 5 Widow"
   ]
  },
  {
   "cell_type": "code",
   "execution_count": 14,
   "id": "b56b174b",
   "metadata": {},
   "outputs": [
    {
     "data": {
      "text/plain": [
       "Widow         44185\n",
       "Cohabitant    11504\n",
       "other          9630\n",
       "Single         8479\n",
       "Married        3077\n",
       "Divorced        519\n",
       "Name: MaritalStatus, dtype: int64"
      ]
     },
     "execution_count": 14,
     "metadata": {},
     "output_type": "execute_result"
    }
   ],
   "source": [
    "data['MaritalStatus']=data['MaritalStatus'].map({1:\"Married\",2:\"Cohabitant\",3:\"Single\",4:\"Divorced\",5:\"Widow\",\n",
    "                                                  -1:\"other\",0:\"other\"})\n",
    "data['MaritalStatus'].value_counts()"
   ]
  },
  {
   "cell_type": "code",
   "execution_count": 15,
   "id": "4d849a40",
   "metadata": {},
   "outputs": [
    {
     "data": {
      "text/plain": [
       "Not set               50635\n",
       "other                  8926\n",
       "Home improvement       8102\n",
       "Loan consolidation     2884\n",
       "Vehicle                1743\n",
       "Travel                 1621\n",
       "Business               1367\n",
       "Education              1259\n",
       "Any                     857\n",
       "Name: UseOfLoan, dtype: int64"
      ]
     },
     "execution_count": 15,
     "metadata": {},
     "output_type": "execute_result"
    }
   ],
   "source": [
    "data['UseOfLoan']=data['UseOfLoan'].map({2:\"Not set\",0:\"other\",1:\"Home improvement\",3:\"Loan consolidation\",5:\"Vehicle\",6:\"Travel\"\n",
    "                                         ,4:\"Business\",7:\"Education\",8:\"Any\",9:\"Any\",10:\"Any\",11:\"Any\",12:\"Any\"})\n",
    "data['UseOfLoan'].value_counts()"
   ]
  },
  {
   "cell_type": "code",
   "execution_count": 16,
   "id": "5952b842",
   "metadata": {},
   "outputs": [
    {
     "data": {
      "text/plain": [
       "Secondary education     28602\n",
       "Higher education        20919\n",
       "Vocational education    17257\n",
       "Basic education          5379\n",
       "Primary education        5226\n",
       "other                      11\n",
       "Name: Education, dtype: int64"
      ]
     },
     "execution_count": 16,
     "metadata": {},
     "output_type": "execute_result"
    }
   ],
   "source": [
    "#1 Primary education 2 Basic education 3 Vocational education 4 Secondary education 5 Higher education\n",
    "data['Education']=data['Education'].map({2:\"Basic education\",1:\"Primary education\",3:\"Vocational education\",5:\"Higher education\",6:\"other\"\n",
    "                                        ,4:\"Secondary education\"})\n",
    "data['Education'].value_counts()"
   ]
  },
  {
   "cell_type": "code",
   "execution_count": 17,
   "id": "4b1eae84",
   "metadata": {},
   "outputs": [
    {
     "data": {
      "text/plain": [
       "Self-employed_Entrepreneur_Retiree    50085\n",
       "Fully employed                        27309\n",
       "Name: EmploymentStatus, dtype: int64"
      ]
     },
     "execution_count": 17,
     "metadata": {},
     "output_type": "execute_result"
    }
   ],
   "source": [
    "data['EmploymentStatus']=data['EmploymentStatus'].map({0:\"Fully employed\",1:\"Self-employed_Entrepreneur_Retiree\",-1:\"Unemployed_Partially employed\"})\n",
    "data['EmploymentStatus'].value_counts()\n",
    "#1 Unemployed 2 Partially employed 3 Fully employed 4 Self-employed 5 Entrepreneur 6 Retiree"
   ]
  },
  {
   "cell_type": "code",
   "execution_count": 18,
   "id": "e45ab518",
   "metadata": {},
   "outputs": [
    {
     "data": {
      "text/plain": [
       "Administrative                      44239\n",
       "Processing                           7640\n",
       "Retail and wholesale                 3007\n",
       "Real-estate                          2876\n",
       "Construction                         2276\n",
       "Hospitality and catering             2186\n",
       "Mining                               2106\n",
       "Energy                               1782\n",
       "Education                            1555\n",
       "Other                                1251\n",
       "Transport and warehousing            1054\n",
       "Research                              893\n",
       "Art and entertainment                 798\n",
       "Finance and insurance                 530\n",
       "Civil service & military              524\n",
       "Healthcare and social help            493\n",
       "Utilities                             433\n",
       "Info and telecom                      342\n",
       "Agriculture,forestry and fishing      116\n",
       "other                                  86\n",
       "Name: OccupationArea, dtype: int64"
      ]
     },
     "execution_count": 18,
     "metadata": {},
     "output_type": "execute_result"
    }
   ],
   "source": [
    "data['OccupationArea']=data['OccupationArea'].map({1:\"Other\",-1:\"other\",2:\"Mining\",3:\"Processing\", 4:\"Energy\",5:\"Utilities\",6:\"Construction\" ,\n",
    "                                                   7:\"Retail and wholesale\",8:\"Transport and warehousing\",9:\"Hospitality and catering\",10:\"Info and telecom\",\n",
    "                                                    11:\"Finance and insurance\",12:\"Real-estate\",13:\"Research\",14:\"Administrative\",15:\"Civil service & military\",\n",
    "                                                    16:\"Education\",17:\"Healthcare and social help\",18:\"Art and entertainment\",19:\"Agriculture,forestry and fishing\"})\n",
    "data['OccupationArea'].value_counts()\n",
    "#1 Other 2 Mining 3 Processing 4 Energy 5 Utilities 6 Construction 7 Retail and wholesale 8 Transport and warehousing\n",
    "# 9 Hospitality and catering 10 Info and telecom 11 Finance and insurance 12 Real-estate 13 Research 14 Administrative \n",
    "# 15 Civil service & military 16 Education 17 Healthcare and social help \n",
    "# 18 Art and entertainment 19 Agriculture, forestry and fishing"
   ]
  },
  {
   "cell_type": "code",
   "execution_count": 19,
   "id": "cdcc5f37",
   "metadata": {},
   "outputs": [
    {
     "data": {
      "text/plain": [
       "Owner                            24594\n",
       "Tenant_pre-furnished property    16842\n",
       "Living with parents              12776\n",
       "Mortgage                          8762\n",
       "other                             4831\n",
       "Tenant_unfurnished propert        4031\n",
       "Joint ownership                   2701\n",
       "Joint tenant                      1362\n",
       "Council house                      882\n",
       "Owner with encumbrance             565\n",
       "homeless                            48\n",
       "Name: HomeOwnershipType, dtype: int64"
      ]
     },
     "execution_count": 19,
     "metadata": {},
     "output_type": "execute_result"
    }
   ],
   "source": [
    "#0 Homeless 1 Owner 2 Living with parents 3 Tenant, pre-furnished property 4 Tenant, \n",
    "#unfurnished property 5 Council house 6 Joint tenant 7 Joint ownership 8 Mortgage 9 Owner with encumbrance 10 Othe\n",
    "data['HomeOwnershipType']=data['HomeOwnershipType'].map({0:\"homeless\",5:\"Owner\",-1:\"other\",3:\"Tenant_pre-furnished property\",\n",
    "                                                         2:\"Living with parents\",6:\"Mortgage\",1:\"Tenant_unfurnished propert\",10:\"other\",\n",
    "                                                         7:\"Joint ownership\",8:\"Joint tenant\",4:\"Council house\",9:\"Owner with encumbrance\"})\n",
    "data['HomeOwnershipType'].value_counts()"
   ]
  },
  {
   "cell_type": "code",
   "execution_count": 20,
   "id": "7eed2c1d",
   "metadata": {},
   "outputs": [
    {
     "data": {
      "text/plain": [
       "Recovery      63428\n",
       "Collection    13966\n",
       "Name: RecoveryStage, dtype: int64"
      ]
     },
     "execution_count": 20,
     "metadata": {},
     "output_type": "execute_result"
    }
   ],
   "source": [
    "data['RecoveryStage']=data['RecoveryStage'].map({1:\"Collection\",2:\"Recovery\"})\n",
    "data['RecoveryStage'].value_counts()\n",
    "#Current stage according to the recovery model 1 Collection 2 Recovery 3 Write Off"
   ]
  },
  {
   "cell_type": "code",
   "execution_count": 21,
   "id": "a0ee7ffc",
   "metadata": {},
   "outputs": [
    {
     "data": {
      "text/plain": [
       "F     15657\n",
       "HR    14500\n",
       "E     13151\n",
       "D     12288\n",
       "C     10420\n",
       "B      6926\n",
       "A      2819\n",
       "AA     1633\n",
       "Name: Rating, dtype: int64"
      ]
     },
     "execution_count": 21,
     "metadata": {},
     "output_type": "execute_result"
    }
   ],
   "source": [
    "data['Rating']=data['Rating'].map({1:\"F\",0:\"HR\",3:\"E\",4:\"D\",2:\"C\",6:\"B\",5:\"A\",7:\"AA\"})\n",
    "data['Rating'].value_counts()"
   ]
  },
  {
   "cell_type": "code",
   "execution_count": 22,
   "id": "b9dfff49",
   "metadata": {},
   "outputs": [
    {
     "data": {
      "text/plain": [
       "1    29328\n",
       "3    14288\n",
       "5    13777\n",
       "0    10080\n",
       "7     3344\n",
       "2     3057\n",
       "4     2901\n",
       "6      619\n",
       "Name: EmploymentDurationCurrentEmployer, dtype: int64"
      ]
     },
     "execution_count": 22,
     "metadata": {},
     "output_type": "execute_result"
    }
   ],
   "source": [
    "data['CreditScoreEsMicroL']=data['CreditScoreEsMicroL'].map({0:\"M\",3:\"M1\",2:\"M5\",5:\"M2\",1:\"M3\",7:\"M4\",6:\"M6\",8:\"M8\",4:\"M9\",9:\"M7\",10:\"M10\"})\n",
    "data['EmploymentDurationCurrentEmployer'].value_counts()"
   ]
  },
  {
   "cell_type": "code",
   "execution_count": 23,
   "id": "ff143ce6",
   "metadata": {},
   "outputs": [
    {
     "data": {
      "text/plain": [
       "MoreThan5Years    29328\n",
       "UpTo1Year         14288\n",
       "UpTo5Years        13777\n",
       "UpTo3Years        10080\n",
       "Other              5958\n",
       "UpTo4Years         3344\n",
       "TrialPeriod         619\n",
       "Name: EmploymentDurationCurrentEmployer, dtype: int64"
      ]
     },
     "execution_count": 23,
     "metadata": {},
     "output_type": "execute_result"
    }
   ],
   "source": [
    "#MoreThan5Years  UpTo1Yea UpTo5Years UpTo3Years  Retiree  UpTo4Years  Other  missing  TrialPeriod\n",
    "data['EmploymentDurationCurrentEmployer']=data['EmploymentDurationCurrentEmployer'].map({1:\"MoreThan5Years\",3:\"UpTo1Year\",5:\"UpTo5Years\",0:\"UpTo3Years\",7:\"UpTo4Years\",2:\"Other\",4:\"Other\",6:\"TrialPeriod\"})\n",
    "data['EmploymentDurationCurrentEmployer'].value_counts()"
   ]
  },
  {
   "cell_type": "code",
   "execution_count": 24,
   "id": "7d695e30",
   "metadata": {},
   "outputs": [
    {
     "data": {
      "text/plain": [
       "MoreThan5Years    29328\n",
       "UpTo1Year         14288\n",
       "UpTo5Years        13777\n",
       "UpTo3Years        10080\n",
       "Other              5958\n",
       "UpTo4Years         3344\n",
       "TrialPeriod         619\n",
       "Name: EmploymentDurationCurrentEmployer, dtype: int64"
      ]
     },
     "execution_count": 24,
     "metadata": {},
     "output_type": "execute_result"
    }
   ],
   "source": [
    "data['EmploymentDurationCurrentEmployer'].value_counts()"
   ]
  },
  {
   "cell_type": "code",
   "execution_count": 25,
   "id": "e3300db6",
   "metadata": {},
   "outputs": [],
   "source": [
    "#a measure of the probability of default one month ahead; the score is given on a 10-grade scale,\n",
    "#from the best score to the worst: M1, M2, M3, M4, M5, M6, M7, M8, M9, M10."
   ]
  },
  {
   "cell_type": "code",
   "execution_count": 26,
   "id": "4af380fe",
   "metadata": {},
   "outputs": [
    {
     "data": {
      "text/plain": [
       "BidsPortfolioManager                         0\n",
       "BidsApi                                      0\n",
       "BidsManual                                   0\n",
       "Age                                          0\n",
       "AppliedAmount                                0\n",
       "Amount                                       0\n",
       "Interest                                     0\n",
       "LoanDuration                                 0\n",
       "MonthlyPayment                               0\n",
       "EmploymentDurationCurrentEmployer            0\n",
       "IncomeTotal                                  0\n",
       "ExistingLiabilities                          0\n",
       "LiabilitiesTotal                             0\n",
       "RefinanceLiabilities                         0\n",
       "DebtToIncome                                 0\n",
       "FreeCash                                     0\n",
       "MonthlyPaymentDay                            0\n",
       "CreditScoreEeMini                            0\n",
       "PrincipalPaymentsMade                        0\n",
       "InterestAndPenaltyPaymentsMade               0\n",
       "PrincipalBalance                             0\n",
       "InterestAndPenaltyBalance                    0\n",
       "NoOfPreviousLoansBeforeLoan                  0\n",
       "AmountOfPreviousLoansBeforeLoan              0\n",
       "PreviousEarlyRepaymentsCountBeforeLoan       0\n",
       "EMI                                          0\n",
       "ELA                                          0\n",
       "ROI                                          0\n",
       "NewCreditCustomer                            0\n",
       "VerificationType                             0\n",
       "LanguageCode                                 0\n",
       "Gender                                       0\n",
       "UseOfLoan                                    0\n",
       "Education                                    0\n",
       "MaritalStatus                                0\n",
       "EmploymentStatus                             0\n",
       "OccupationArea                            3207\n",
       "HomeOwnershipType                            0\n",
       "RecoveryStage                                0\n",
       "Rating                                       0\n",
       "Restructured                                 0\n",
       "CreditScoreEsMicroL                          0\n",
       "Default                                      0\n",
       "dtype: int64"
      ]
     },
     "execution_count": 26,
     "metadata": {},
     "output_type": "execute_result"
    }
   ],
   "source": [
    "data.isnull().sum()"
   ]
  },
  {
   "cell_type": "code",
   "execution_count": 27,
   "id": "f697c74d",
   "metadata": {},
   "outputs": [],
   "source": [
    "# Step 1 -> train/test/split\n",
    "X = data.drop(['EMI', 'ELA', 'ROI'], axis=1)\n",
    "y = data[['EMI', 'ELA', 'ROI']]"
   ]
  },
  {
   "cell_type": "code",
   "execution_count": 28,
   "id": "1f9f153a",
   "metadata": {},
   "outputs": [
    {
     "data": {
      "text/plain": [
       "Index(['EmploymentDurationCurrentEmployer', 'NewCreditCustomer',\n",
       "       'VerificationType', 'LanguageCode', 'Gender', 'UseOfLoan', 'Education',\n",
       "       'MaritalStatus', 'EmploymentStatus', 'OccupationArea',\n",
       "       'HomeOwnershipType', 'RecoveryStage', 'Rating', 'Restructured',\n",
       "       'CreditScoreEsMicroL', 'Default'],\n",
       "      dtype='object')"
      ]
     },
     "execution_count": 28,
     "metadata": {},
     "output_type": "execute_result"
    }
   ],
   "source": [
    "cat_cols=X.select_dtypes(exclude=['int','float']).columns\n",
    "cat_cols"
   ]
  },
  {
   "cell_type": "code",
   "execution_count": 29,
   "id": "93a4c147",
   "metadata": {},
   "outputs": [
    {
     "data": {
      "text/plain": [
       "Index(['BidsPortfolioManager', 'BidsApi', 'BidsManual', 'Age', 'AppliedAmount',\n",
       "       'Amount', 'Interest', 'LoanDuration', 'MonthlyPayment', 'IncomeTotal',\n",
       "       'ExistingLiabilities', 'LiabilitiesTotal', 'RefinanceLiabilities',\n",
       "       'DebtToIncome', 'FreeCash', 'MonthlyPaymentDay', 'CreditScoreEeMini',\n",
       "       'PrincipalPaymentsMade', 'InterestAndPenaltyPaymentsMade',\n",
       "       'PrincipalBalance', 'InterestAndPenaltyBalance',\n",
       "       'NoOfPreviousLoansBeforeLoan', 'AmountOfPreviousLoansBeforeLoan',\n",
       "       'PreviousEarlyRepaymentsCountBeforeLoan'],\n",
       "      dtype='object')"
      ]
     },
     "execution_count": 29,
     "metadata": {},
     "output_type": "execute_result"
    }
   ],
   "source": [
    "num_cols=X.select_dtypes(include=['int','float']).columns\n",
    "num_cols"
   ]
  },
  {
   "cell_type": "code",
   "execution_count": 31,
   "id": "d20403f4",
   "metadata": {},
   "outputs": [],
   "source": [
    "X_train, X_test, y_train, y_test = train_test_split(X, y, random_state=0, train_size = .80)"
   ]
  },
  {
   "cell_type": "code",
   "execution_count": 32,
   "id": "a2188a71",
   "metadata": {},
   "outputs": [],
   "source": [
    "ind=[]\n",
    "for i in cat_cols:\n",
    "    index=data.columns.get_loc(i)\n",
    "    ind.append(index)"
   ]
  },
  {
   "cell_type": "code",
   "execution_count": 33,
   "id": "39a84a67",
   "metadata": {},
   "outputs": [
    {
     "data": {
      "text/plain": [
       "[9, 28, 29, 30, 31, 32, 33, 34, 35, 36, 37, 38, 39, 40, 41, 42]"
      ]
     },
     "execution_count": 33,
     "metadata": {},
     "output_type": "execute_result"
    }
   ],
   "source": [
    "ind"
   ]
  },
  {
   "cell_type": "code",
   "execution_count": 34,
   "id": "73991c72",
   "metadata": {},
   "outputs": [],
   "source": [
    "ind_num=[]\n",
    "for i in num_cols:\n",
    "    index=data.columns.get_loc(i)\n",
    "    ind_num.append(index)"
   ]
  },
  {
   "cell_type": "code",
   "execution_count": 35,
   "id": "e01dfd85",
   "metadata": {},
   "outputs": [
    {
     "data": {
      "text/plain": [
       "[0,\n",
       " 1,\n",
       " 2,\n",
       " 3,\n",
       " 4,\n",
       " 5,\n",
       " 6,\n",
       " 7,\n",
       " 8,\n",
       " 10,\n",
       " 11,\n",
       " 12,\n",
       " 13,\n",
       " 14,\n",
       " 15,\n",
       " 16,\n",
       " 17,\n",
       " 18,\n",
       " 19,\n",
       " 20,\n",
       " 21,\n",
       " 22,\n",
       " 23,\n",
       " 24]"
      ]
     },
     "execution_count": 35,
     "metadata": {},
     "output_type": "execute_result"
    }
   ],
   "source": [
    "ind_num"
   ]
  },
  {
   "cell_type": "code",
   "execution_count": 37,
   "id": "39896517",
   "metadata": {},
   "outputs": [],
   "source": [
    "# y_test=scale_y.transform(y_test)"
   ]
  },
  {
   "cell_type": "code",
   "execution_count": 38,
   "id": "4ee25f70",
   "metadata": {},
   "outputs": [],
   "source": [
    "# scale_y.inverse_transform(y_test)"
   ]
  },
  {
   "cell_type": "code",
   "execution_count": 39,
   "id": "62736d16",
   "metadata": {},
   "outputs": [],
   "source": [
    "# y_test"
   ]
  },
  {
   "cell_type": "code",
   "execution_count": 36,
   "id": "c511e244",
   "metadata": {},
   "outputs": [
    {
     "name": "stderr",
     "output_type": "stream",
     "text": [
      "C:\\Users\\ASUS\\anaconda3\\lib\\site-packages\\xgboost\\compat.py:31: FutureWarning: pandas.Int64Index is deprecated and will be removed from pandas in a future version. Use pandas.Index with the appropriate dtype instead.\n",
      "  from pandas import MultiIndex, Int64Index\n"
     ]
    }
   ],
   "source": [
    "import pandas as pd\n",
    "import xgboost as xg"
   ]
  },
  {
   "cell_type": "code",
   "execution_count": 37,
   "id": "b49aec6e",
   "metadata": {},
   "outputs": [],
   "source": [
    "# train the model\n",
    "from sklearn.multioutput import MultiOutputRegressor\n",
    "multioutputregressor=MultiOutputRegressor(xg.XGBRegressor(objective='reg:squarederror',n_estimators=800,reg_lambda=1,gamma=0,max_depth=20,learning_rate=.5))\n"
   ]
  },
  {
   "cell_type": "code",
   "execution_count": 38,
   "id": "63b01ea3",
   "metadata": {},
   "outputs": [],
   "source": [
    "##visualize Pipeline\n",
    "from sklearn import set_config\n",
    "set_config(display=\"diagram\")"
   ]
  },
  {
   "cell_type": "markdown",
   "id": "c5436108",
   "metadata": {},
   "source": [
    "# PIPELINE"
   ]
  },
  {
   "cell_type": "code",
   "execution_count": 39,
   "id": "a196a25d",
   "metadata": {},
   "outputs": [],
   "source": [
    "# pipe = Pipeline([\n",
    "#     ('IMPUTE',impute),\n",
    "#     ('OHE',OHE),\n",
    "#     ('SCALE_X',scale_x),\n",
    "#     ('multioutputregressor',multioutputregressor)\n",
    "# ])"
   ]
  },
  {
   "cell_type": "code",
   "execution_count": 40,
   "id": "da0de459",
   "metadata": {},
   "outputs": [],
   "source": [
    "numeric_processor=Pipeline(\n",
    "    steps=[(\"imputation_mean\",SimpleImputer(missing_values=np.nan,strategy=\"mean\")),\n",
    "          (\"scaler\",StandardScaler())]\n",
    "\n",
    ")"
   ]
  },
  {
   "cell_type": "code",
   "execution_count": 41,
   "id": "cba89545",
   "metadata": {},
   "outputs": [],
   "source": [
    "categorical_processor=Pipeline(\n",
    "    steps=[(\"imputation_mode\",SimpleImputer(strategy='most_frequent')),\n",
    "          (\"onehot\",OneHotEncoder(drop='first',sparse=False,handle_unknown=\"ignore\"))]\n",
    "\n",
    ")"
   ]
  },
  {
   "cell_type": "code",
   "execution_count": 42,
   "id": "a2e030c6",
   "metadata": {},
   "outputs": [],
   "source": [
    "preprocessor=ColumnTransformer(\n",
    "    [(\"categorical\",categorical_processor,selector(dtype_exclude=['int','float'])),\n",
    "    (\"numerical\",numeric_processor,selector(dtype_include=['int','float']))]\n",
    "\n",
    "\n",
    ")"
   ]
  },
  {
   "cell_type": "code",
   "execution_count": 43,
   "id": "c2dc660e",
   "metadata": {},
   "outputs": [
    {
     "data": {
      "text/html": [
       "<style>#sk-container-id-1 {color: black;background-color: white;}#sk-container-id-1 pre{padding: 0;}#sk-container-id-1 div.sk-toggleable {background-color: white;}#sk-container-id-1 label.sk-toggleable__label {cursor: pointer;display: block;width: 100%;margin-bottom: 0;padding: 0.3em;box-sizing: border-box;text-align: center;}#sk-container-id-1 label.sk-toggleable__label-arrow:before {content: \"▸\";float: left;margin-right: 0.25em;color: #696969;}#sk-container-id-1 label.sk-toggleable__label-arrow:hover:before {color: black;}#sk-container-id-1 div.sk-estimator:hover label.sk-toggleable__label-arrow:before {color: black;}#sk-container-id-1 div.sk-toggleable__content {max-height: 0;max-width: 0;overflow: hidden;text-align: left;background-color: #f0f8ff;}#sk-container-id-1 div.sk-toggleable__content pre {margin: 0.2em;color: black;border-radius: 0.25em;background-color: #f0f8ff;}#sk-container-id-1 input.sk-toggleable__control:checked~div.sk-toggleable__content {max-height: 200px;max-width: 100%;overflow: auto;}#sk-container-id-1 input.sk-toggleable__control:checked~label.sk-toggleable__label-arrow:before {content: \"▾\";}#sk-container-id-1 div.sk-estimator input.sk-toggleable__control:checked~label.sk-toggleable__label {background-color: #d4ebff;}#sk-container-id-1 div.sk-label input.sk-toggleable__control:checked~label.sk-toggleable__label {background-color: #d4ebff;}#sk-container-id-1 input.sk-hidden--visually {border: 0;clip: rect(1px 1px 1px 1px);clip: rect(1px, 1px, 1px, 1px);height: 1px;margin: -1px;overflow: hidden;padding: 0;position: absolute;width: 1px;}#sk-container-id-1 div.sk-estimator {font-family: monospace;background-color: #f0f8ff;border: 1px dotted black;border-radius: 0.25em;box-sizing: border-box;margin-bottom: 0.5em;}#sk-container-id-1 div.sk-estimator:hover {background-color: #d4ebff;}#sk-container-id-1 div.sk-parallel-item::after {content: \"\";width: 100%;border-bottom: 1px solid gray;flex-grow: 1;}#sk-container-id-1 div.sk-label:hover label.sk-toggleable__label {background-color: #d4ebff;}#sk-container-id-1 div.sk-serial::before {content: \"\";position: absolute;border-left: 1px solid gray;box-sizing: border-box;top: 0;bottom: 0;left: 50%;z-index: 0;}#sk-container-id-1 div.sk-serial {display: flex;flex-direction: column;align-items: center;background-color: white;padding-right: 0.2em;padding-left: 0.2em;position: relative;}#sk-container-id-1 div.sk-item {position: relative;z-index: 1;}#sk-container-id-1 div.sk-parallel {display: flex;align-items: stretch;justify-content: center;background-color: white;position: relative;}#sk-container-id-1 div.sk-item::before, #sk-container-id-1 div.sk-parallel-item::before {content: \"\";position: absolute;border-left: 1px solid gray;box-sizing: border-box;top: 0;bottom: 0;left: 50%;z-index: -1;}#sk-container-id-1 div.sk-parallel-item {display: flex;flex-direction: column;z-index: 1;position: relative;background-color: white;}#sk-container-id-1 div.sk-parallel-item:first-child::after {align-self: flex-end;width: 50%;}#sk-container-id-1 div.sk-parallel-item:last-child::after {align-self: flex-start;width: 50%;}#sk-container-id-1 div.sk-parallel-item:only-child::after {width: 0;}#sk-container-id-1 div.sk-dashed-wrapped {border: 1px dashed gray;margin: 0 0.4em 0.5em 0.4em;box-sizing: border-box;padding-bottom: 0.4em;background-color: white;}#sk-container-id-1 div.sk-label label {font-family: monospace;font-weight: bold;display: inline-block;line-height: 1.2em;}#sk-container-id-1 div.sk-label-container {text-align: center;}#sk-container-id-1 div.sk-container {/* jupyter's `normalize.less` sets `[hidden] { display: none; }` but bootstrap.min.css set `[hidden] { display: none !important; }` so we also need the `!important` here to be able to override the default hidden behavior on the sphinx rendered scikit-learn.org. See: https://github.com/scikit-learn/scikit-learn/issues/21755 */display: inline-block !important;position: relative;}#sk-container-id-1 div.sk-text-repr-fallback {display: none;}</style><div id=\"sk-container-id-1\" class=\"sk-top-container\"><div class=\"sk-text-repr-fallback\"><pre>ColumnTransformer(transformers=[(&#x27;categorical&#x27;,\n",
       "                                 Pipeline(steps=[(&#x27;imputation_mode&#x27;,\n",
       "                                                  SimpleImputer(strategy=&#x27;most_frequent&#x27;)),\n",
       "                                                 (&#x27;onehot&#x27;,\n",
       "                                                  OneHotEncoder(drop=&#x27;first&#x27;,\n",
       "                                                                handle_unknown=&#x27;ignore&#x27;,\n",
       "                                                                sparse=False))]),\n",
       "                                 &lt;sklearn.compose._column_transformer.make_column_selector object at 0x00000180B6DFA610&gt;),\n",
       "                                (&#x27;numerical&#x27;,\n",
       "                                 Pipeline(steps=[(&#x27;imputation_mean&#x27;,\n",
       "                                                  SimpleImputer()),\n",
       "                                                 (&#x27;scaler&#x27;, StandardScaler())]),\n",
       "                                 &lt;sklearn.compose._column_transformer.make_column_selector object at 0x00000180BA261880&gt;)])</pre><b>In a Jupyter environment, please rerun this cell to show the HTML representation or trust the notebook. <br />On GitHub, the HTML representation is unable to render, please try loading this page with nbviewer.org.</b></div><div class=\"sk-container\" hidden><div class=\"sk-item sk-dashed-wrapped\"><div class=\"sk-label-container\"><div class=\"sk-label sk-toggleable\"><input class=\"sk-toggleable__control sk-hidden--visually\" id=\"sk-estimator-id-1\" type=\"checkbox\" ><label for=\"sk-estimator-id-1\" class=\"sk-toggleable__label sk-toggleable__label-arrow\">ColumnTransformer</label><div class=\"sk-toggleable__content\"><pre>ColumnTransformer(transformers=[(&#x27;categorical&#x27;,\n",
       "                                 Pipeline(steps=[(&#x27;imputation_mode&#x27;,\n",
       "                                                  SimpleImputer(strategy=&#x27;most_frequent&#x27;)),\n",
       "                                                 (&#x27;onehot&#x27;,\n",
       "                                                  OneHotEncoder(drop=&#x27;first&#x27;,\n",
       "                                                                handle_unknown=&#x27;ignore&#x27;,\n",
       "                                                                sparse=False))]),\n",
       "                                 &lt;sklearn.compose._column_transformer.make_column_selector object at 0x00000180B6DFA610&gt;),\n",
       "                                (&#x27;numerical&#x27;,\n",
       "                                 Pipeline(steps=[(&#x27;imputation_mean&#x27;,\n",
       "                                                  SimpleImputer()),\n",
       "                                                 (&#x27;scaler&#x27;, StandardScaler())]),\n",
       "                                 &lt;sklearn.compose._column_transformer.make_column_selector object at 0x00000180BA261880&gt;)])</pre></div></div></div><div class=\"sk-parallel\"><div class=\"sk-parallel-item\"><div class=\"sk-item\"><div class=\"sk-label-container\"><div class=\"sk-label sk-toggleable\"><input class=\"sk-toggleable__control sk-hidden--visually\" id=\"sk-estimator-id-2\" type=\"checkbox\" ><label for=\"sk-estimator-id-2\" class=\"sk-toggleable__label sk-toggleable__label-arrow\">categorical</label><div class=\"sk-toggleable__content\"><pre>&lt;sklearn.compose._column_transformer.make_column_selector object at 0x00000180B6DFA610&gt;</pre></div></div></div><div class=\"sk-serial\"><div class=\"sk-item\"><div class=\"sk-serial\"><div class=\"sk-item\"><div class=\"sk-estimator sk-toggleable\"><input class=\"sk-toggleable__control sk-hidden--visually\" id=\"sk-estimator-id-3\" type=\"checkbox\" ><label for=\"sk-estimator-id-3\" class=\"sk-toggleable__label sk-toggleable__label-arrow\">SimpleImputer</label><div class=\"sk-toggleable__content\"><pre>SimpleImputer(strategy=&#x27;most_frequent&#x27;)</pre></div></div></div><div class=\"sk-item\"><div class=\"sk-estimator sk-toggleable\"><input class=\"sk-toggleable__control sk-hidden--visually\" id=\"sk-estimator-id-4\" type=\"checkbox\" ><label for=\"sk-estimator-id-4\" class=\"sk-toggleable__label sk-toggleable__label-arrow\">OneHotEncoder</label><div class=\"sk-toggleable__content\"><pre>OneHotEncoder(drop=&#x27;first&#x27;, handle_unknown=&#x27;ignore&#x27;, sparse=False)</pre></div></div></div></div></div></div></div></div><div class=\"sk-parallel-item\"><div class=\"sk-item\"><div class=\"sk-label-container\"><div class=\"sk-label sk-toggleable\"><input class=\"sk-toggleable__control sk-hidden--visually\" id=\"sk-estimator-id-5\" type=\"checkbox\" ><label for=\"sk-estimator-id-5\" class=\"sk-toggleable__label sk-toggleable__label-arrow\">numerical</label><div class=\"sk-toggleable__content\"><pre>&lt;sklearn.compose._column_transformer.make_column_selector object at 0x00000180BA261880&gt;</pre></div></div></div><div class=\"sk-serial\"><div class=\"sk-item\"><div class=\"sk-serial\"><div class=\"sk-item\"><div class=\"sk-estimator sk-toggleable\"><input class=\"sk-toggleable__control sk-hidden--visually\" id=\"sk-estimator-id-6\" type=\"checkbox\" ><label for=\"sk-estimator-id-6\" class=\"sk-toggleable__label sk-toggleable__label-arrow\">SimpleImputer</label><div class=\"sk-toggleable__content\"><pre>SimpleImputer()</pre></div></div></div><div class=\"sk-item\"><div class=\"sk-estimator sk-toggleable\"><input class=\"sk-toggleable__control sk-hidden--visually\" id=\"sk-estimator-id-7\" type=\"checkbox\" ><label for=\"sk-estimator-id-7\" class=\"sk-toggleable__label sk-toggleable__label-arrow\">StandardScaler</label><div class=\"sk-toggleable__content\"><pre>StandardScaler()</pre></div></div></div></div></div></div></div></div></div></div></div></div>"
      ],
      "text/plain": [
       "ColumnTransformer(transformers=[('categorical',\n",
       "                                 Pipeline(steps=[('imputation_mode',\n",
       "                                                  SimpleImputer(strategy='most_frequent')),\n",
       "                                                 ('onehot',\n",
       "                                                  OneHotEncoder(drop='first',\n",
       "                                                                handle_unknown='ignore',\n",
       "                                                                sparse=False))]),\n",
       "                                 <sklearn.compose._column_transformer.make_column_selector object at 0x00000180B6DFA610>),\n",
       "                                ('numerical',\n",
       "                                 Pipeline(steps=[('imputation_mean',\n",
       "                                                  SimpleImputer()),\n",
       "                                                 ('scaler', StandardScaler())]),\n",
       "                                 <sklearn.compose._column_transformer.make_column_selector object at 0x00000180BA261880>)])"
      ]
     },
     "execution_count": 43,
     "metadata": {},
     "output_type": "execute_result"
    }
   ],
   "source": [
    "preprocessor"
   ]
  },
  {
   "cell_type": "code",
   "execution_count": 44,
   "id": "e00d1d89",
   "metadata": {},
   "outputs": [
    {
     "data": {
      "text/html": [
       "<style>#sk-container-id-2 {color: black;background-color: white;}#sk-container-id-2 pre{padding: 0;}#sk-container-id-2 div.sk-toggleable {background-color: white;}#sk-container-id-2 label.sk-toggleable__label {cursor: pointer;display: block;width: 100%;margin-bottom: 0;padding: 0.3em;box-sizing: border-box;text-align: center;}#sk-container-id-2 label.sk-toggleable__label-arrow:before {content: \"▸\";float: left;margin-right: 0.25em;color: #696969;}#sk-container-id-2 label.sk-toggleable__label-arrow:hover:before {color: black;}#sk-container-id-2 div.sk-estimator:hover label.sk-toggleable__label-arrow:before {color: black;}#sk-container-id-2 div.sk-toggleable__content {max-height: 0;max-width: 0;overflow: hidden;text-align: left;background-color: #f0f8ff;}#sk-container-id-2 div.sk-toggleable__content pre {margin: 0.2em;color: black;border-radius: 0.25em;background-color: #f0f8ff;}#sk-container-id-2 input.sk-toggleable__control:checked~div.sk-toggleable__content {max-height: 200px;max-width: 100%;overflow: auto;}#sk-container-id-2 input.sk-toggleable__control:checked~label.sk-toggleable__label-arrow:before {content: \"▾\";}#sk-container-id-2 div.sk-estimator input.sk-toggleable__control:checked~label.sk-toggleable__label {background-color: #d4ebff;}#sk-container-id-2 div.sk-label input.sk-toggleable__control:checked~label.sk-toggleable__label {background-color: #d4ebff;}#sk-container-id-2 input.sk-hidden--visually {border: 0;clip: rect(1px 1px 1px 1px);clip: rect(1px, 1px, 1px, 1px);height: 1px;margin: -1px;overflow: hidden;padding: 0;position: absolute;width: 1px;}#sk-container-id-2 div.sk-estimator {font-family: monospace;background-color: #f0f8ff;border: 1px dotted black;border-radius: 0.25em;box-sizing: border-box;margin-bottom: 0.5em;}#sk-container-id-2 div.sk-estimator:hover {background-color: #d4ebff;}#sk-container-id-2 div.sk-parallel-item::after {content: \"\";width: 100%;border-bottom: 1px solid gray;flex-grow: 1;}#sk-container-id-2 div.sk-label:hover label.sk-toggleable__label {background-color: #d4ebff;}#sk-container-id-2 div.sk-serial::before {content: \"\";position: absolute;border-left: 1px solid gray;box-sizing: border-box;top: 0;bottom: 0;left: 50%;z-index: 0;}#sk-container-id-2 div.sk-serial {display: flex;flex-direction: column;align-items: center;background-color: white;padding-right: 0.2em;padding-left: 0.2em;position: relative;}#sk-container-id-2 div.sk-item {position: relative;z-index: 1;}#sk-container-id-2 div.sk-parallel {display: flex;align-items: stretch;justify-content: center;background-color: white;position: relative;}#sk-container-id-2 div.sk-item::before, #sk-container-id-2 div.sk-parallel-item::before {content: \"\";position: absolute;border-left: 1px solid gray;box-sizing: border-box;top: 0;bottom: 0;left: 50%;z-index: -1;}#sk-container-id-2 div.sk-parallel-item {display: flex;flex-direction: column;z-index: 1;position: relative;background-color: white;}#sk-container-id-2 div.sk-parallel-item:first-child::after {align-self: flex-end;width: 50%;}#sk-container-id-2 div.sk-parallel-item:last-child::after {align-self: flex-start;width: 50%;}#sk-container-id-2 div.sk-parallel-item:only-child::after {width: 0;}#sk-container-id-2 div.sk-dashed-wrapped {border: 1px dashed gray;margin: 0 0.4em 0.5em 0.4em;box-sizing: border-box;padding-bottom: 0.4em;background-color: white;}#sk-container-id-2 div.sk-label label {font-family: monospace;font-weight: bold;display: inline-block;line-height: 1.2em;}#sk-container-id-2 div.sk-label-container {text-align: center;}#sk-container-id-2 div.sk-container {/* jupyter's `normalize.less` sets `[hidden] { display: none; }` but bootstrap.min.css set `[hidden] { display: none !important; }` so we also need the `!important` here to be able to override the default hidden behavior on the sphinx rendered scikit-learn.org. See: https://github.com/scikit-learn/scikit-learn/issues/21755 */display: inline-block !important;position: relative;}#sk-container-id-2 div.sk-text-repr-fallback {display: none;}</style><div id=\"sk-container-id-2\" class=\"sk-top-container\"><div class=\"sk-text-repr-fallback\"><pre>Pipeline(steps=[(&#x27;columntransformer&#x27;,\n",
       "                 ColumnTransformer(transformers=[(&#x27;categorical&#x27;,\n",
       "                                                  Pipeline(steps=[(&#x27;imputation_mode&#x27;,\n",
       "                                                                   SimpleImputer(strategy=&#x27;most_frequent&#x27;)),\n",
       "                                                                  (&#x27;onehot&#x27;,\n",
       "                                                                   OneHotEncoder(drop=&#x27;first&#x27;,\n",
       "                                                                                 handle_unknown=&#x27;ignore&#x27;,\n",
       "                                                                                 sparse=False))]),\n",
       "                                                  &lt;sklearn.compose._column_transformer.make_column_selector object at 0x00000180B6DFA610&gt;),\n",
       "                                                 (&#x27;numerical&#x27;,\n",
       "                                                  Pipeline(step...\n",
       "                                                             importance_type=&#x27;gain&#x27;,\n",
       "                                                             interaction_constraints=None,\n",
       "                                                             learning_rate=0.5,\n",
       "                                                             max_delta_step=None,\n",
       "                                                             max_depth=20,\n",
       "                                                             min_child_weight=None,\n",
       "                                                             missing=nan,\n",
       "                                                             monotone_constraints=None,\n",
       "                                                             n_estimators=800,\n",
       "                                                             n_jobs=None,\n",
       "                                                             num_parallel_tree=None,\n",
       "                                                             random_state=None,\n",
       "                                                             reg_alpha=None,\n",
       "                                                             reg_lambda=1,\n",
       "                                                             scale_pos_weight=None,\n",
       "                                                             subsample=None,\n",
       "                                                             tree_method=None,\n",
       "                                                             validate_parameters=None,\n",
       "                                                             verbosity=None)))])</pre><b>In a Jupyter environment, please rerun this cell to show the HTML representation or trust the notebook. <br />On GitHub, the HTML representation is unable to render, please try loading this page with nbviewer.org.</b></div><div class=\"sk-container\" hidden><div class=\"sk-item sk-dashed-wrapped\"><div class=\"sk-label-container\"><div class=\"sk-label sk-toggleable\"><input class=\"sk-toggleable__control sk-hidden--visually\" id=\"sk-estimator-id-8\" type=\"checkbox\" ><label for=\"sk-estimator-id-8\" class=\"sk-toggleable__label sk-toggleable__label-arrow\">Pipeline</label><div class=\"sk-toggleable__content\"><pre>Pipeline(steps=[(&#x27;columntransformer&#x27;,\n",
       "                 ColumnTransformer(transformers=[(&#x27;categorical&#x27;,\n",
       "                                                  Pipeline(steps=[(&#x27;imputation_mode&#x27;,\n",
       "                                                                   SimpleImputer(strategy=&#x27;most_frequent&#x27;)),\n",
       "                                                                  (&#x27;onehot&#x27;,\n",
       "                                                                   OneHotEncoder(drop=&#x27;first&#x27;,\n",
       "                                                                                 handle_unknown=&#x27;ignore&#x27;,\n",
       "                                                                                 sparse=False))]),\n",
       "                                                  &lt;sklearn.compose._column_transformer.make_column_selector object at 0x00000180B6DFA610&gt;),\n",
       "                                                 (&#x27;numerical&#x27;,\n",
       "                                                  Pipeline(step...\n",
       "                                                             importance_type=&#x27;gain&#x27;,\n",
       "                                                             interaction_constraints=None,\n",
       "                                                             learning_rate=0.5,\n",
       "                                                             max_delta_step=None,\n",
       "                                                             max_depth=20,\n",
       "                                                             min_child_weight=None,\n",
       "                                                             missing=nan,\n",
       "                                                             monotone_constraints=None,\n",
       "                                                             n_estimators=800,\n",
       "                                                             n_jobs=None,\n",
       "                                                             num_parallel_tree=None,\n",
       "                                                             random_state=None,\n",
       "                                                             reg_alpha=None,\n",
       "                                                             reg_lambda=1,\n",
       "                                                             scale_pos_weight=None,\n",
       "                                                             subsample=None,\n",
       "                                                             tree_method=None,\n",
       "                                                             validate_parameters=None,\n",
       "                                                             verbosity=None)))])</pre></div></div></div><div class=\"sk-serial\"><div class=\"sk-item sk-dashed-wrapped\"><div class=\"sk-label-container\"><div class=\"sk-label sk-toggleable\"><input class=\"sk-toggleable__control sk-hidden--visually\" id=\"sk-estimator-id-9\" type=\"checkbox\" ><label for=\"sk-estimator-id-9\" class=\"sk-toggleable__label sk-toggleable__label-arrow\">columntransformer: ColumnTransformer</label><div class=\"sk-toggleable__content\"><pre>ColumnTransformer(transformers=[(&#x27;categorical&#x27;,\n",
       "                                 Pipeline(steps=[(&#x27;imputation_mode&#x27;,\n",
       "                                                  SimpleImputer(strategy=&#x27;most_frequent&#x27;)),\n",
       "                                                 (&#x27;onehot&#x27;,\n",
       "                                                  OneHotEncoder(drop=&#x27;first&#x27;,\n",
       "                                                                handle_unknown=&#x27;ignore&#x27;,\n",
       "                                                                sparse=False))]),\n",
       "                                 &lt;sklearn.compose._column_transformer.make_column_selector object at 0x00000180B6DFA610&gt;),\n",
       "                                (&#x27;numerical&#x27;,\n",
       "                                 Pipeline(steps=[(&#x27;imputation_mean&#x27;,\n",
       "                                                  SimpleImputer()),\n",
       "                                                 (&#x27;scaler&#x27;, StandardScaler())]),\n",
       "                                 &lt;sklearn.compose._column_transformer.make_column_selector object at 0x00000180BA261880&gt;)])</pre></div></div></div><div class=\"sk-parallel\"><div class=\"sk-parallel-item\"><div class=\"sk-item\"><div class=\"sk-label-container\"><div class=\"sk-label sk-toggleable\"><input class=\"sk-toggleable__control sk-hidden--visually\" id=\"sk-estimator-id-10\" type=\"checkbox\" ><label for=\"sk-estimator-id-10\" class=\"sk-toggleable__label sk-toggleable__label-arrow\">categorical</label><div class=\"sk-toggleable__content\"><pre>&lt;sklearn.compose._column_transformer.make_column_selector object at 0x00000180B6DFA610&gt;</pre></div></div></div><div class=\"sk-serial\"><div class=\"sk-item\"><div class=\"sk-serial\"><div class=\"sk-item\"><div class=\"sk-estimator sk-toggleable\"><input class=\"sk-toggleable__control sk-hidden--visually\" id=\"sk-estimator-id-11\" type=\"checkbox\" ><label for=\"sk-estimator-id-11\" class=\"sk-toggleable__label sk-toggleable__label-arrow\">SimpleImputer</label><div class=\"sk-toggleable__content\"><pre>SimpleImputer(strategy=&#x27;most_frequent&#x27;)</pre></div></div></div><div class=\"sk-item\"><div class=\"sk-estimator sk-toggleable\"><input class=\"sk-toggleable__control sk-hidden--visually\" id=\"sk-estimator-id-12\" type=\"checkbox\" ><label for=\"sk-estimator-id-12\" class=\"sk-toggleable__label sk-toggleable__label-arrow\">OneHotEncoder</label><div class=\"sk-toggleable__content\"><pre>OneHotEncoder(drop=&#x27;first&#x27;, handle_unknown=&#x27;ignore&#x27;, sparse=False)</pre></div></div></div></div></div></div></div></div><div class=\"sk-parallel-item\"><div class=\"sk-item\"><div class=\"sk-label-container\"><div class=\"sk-label sk-toggleable\"><input class=\"sk-toggleable__control sk-hidden--visually\" id=\"sk-estimator-id-13\" type=\"checkbox\" ><label for=\"sk-estimator-id-13\" class=\"sk-toggleable__label sk-toggleable__label-arrow\">numerical</label><div class=\"sk-toggleable__content\"><pre>&lt;sklearn.compose._column_transformer.make_column_selector object at 0x00000180BA261880&gt;</pre></div></div></div><div class=\"sk-serial\"><div class=\"sk-item\"><div class=\"sk-serial\"><div class=\"sk-item\"><div class=\"sk-estimator sk-toggleable\"><input class=\"sk-toggleable__control sk-hidden--visually\" id=\"sk-estimator-id-14\" type=\"checkbox\" ><label for=\"sk-estimator-id-14\" class=\"sk-toggleable__label sk-toggleable__label-arrow\">SimpleImputer</label><div class=\"sk-toggleable__content\"><pre>SimpleImputer()</pre></div></div></div><div class=\"sk-item\"><div class=\"sk-estimator sk-toggleable\"><input class=\"sk-toggleable__control sk-hidden--visually\" id=\"sk-estimator-id-15\" type=\"checkbox\" ><label for=\"sk-estimator-id-15\" class=\"sk-toggleable__label sk-toggleable__label-arrow\">StandardScaler</label><div class=\"sk-toggleable__content\"><pre>StandardScaler()</pre></div></div></div></div></div></div></div></div></div></div><div class=\"sk-item sk-dashed-wrapped\"><div class=\"sk-label-container\"><div class=\"sk-label sk-toggleable\"><input class=\"sk-toggleable__control sk-hidden--visually\" id=\"sk-estimator-id-16\" type=\"checkbox\" ><label for=\"sk-estimator-id-16\" class=\"sk-toggleable__label sk-toggleable__label-arrow\">multioutputregressor: MultiOutputRegressor</label><div class=\"sk-toggleable__content\"><pre>MultiOutputRegressor(estimator=XGBRegressor(base_score=None, booster=None,\n",
       "                                            colsample_bylevel=None,\n",
       "                                            colsample_bynode=None,\n",
       "                                            colsample_bytree=None, gamma=0,\n",
       "                                            gpu_id=None, importance_type=&#x27;gain&#x27;,\n",
       "                                            interaction_constraints=None,\n",
       "                                            learning_rate=0.5,\n",
       "                                            max_delta_step=None, max_depth=20,\n",
       "                                            min_child_weight=None, missing=nan,\n",
       "                                            monotone_constraints=None,\n",
       "                                            n_estimators=800, n_jobs=None,\n",
       "                                            num_parallel_tree=None,\n",
       "                                            random_state=None, reg_alpha=None,\n",
       "                                            reg_lambda=1, scale_pos_weight=None,\n",
       "                                            subsample=None, tree_method=None,\n",
       "                                            validate_parameters=None,\n",
       "                                            verbosity=None))</pre></div></div></div><div class=\"sk-parallel\"><div class=\"sk-parallel-item\"><div class=\"sk-item\"><div class=\"sk-label-container\"><div class=\"sk-label sk-toggleable\"><input class=\"sk-toggleable__control sk-hidden--visually\" id=\"sk-estimator-id-17\" type=\"checkbox\" ><label for=\"sk-estimator-id-17\" class=\"sk-toggleable__label sk-toggleable__label-arrow\">estimator: XGBRegressor</label><div class=\"sk-toggleable__content\"><pre>XGBRegressor(base_score=None, booster=None, colsample_bylevel=None,\n",
       "             colsample_bynode=None, colsample_bytree=None, gamma=0, gpu_id=None,\n",
       "             importance_type=&#x27;gain&#x27;, interaction_constraints=None,\n",
       "             learning_rate=0.5, max_delta_step=None, max_depth=20,\n",
       "             min_child_weight=None, missing=nan, monotone_constraints=None,\n",
       "             n_estimators=800, n_jobs=None, num_parallel_tree=None,\n",
       "             random_state=None, reg_alpha=None, reg_lambda=1,\n",
       "             scale_pos_weight=None, subsample=None, tree_method=None,\n",
       "             validate_parameters=None, verbosity=None)</pre></div></div></div><div class=\"sk-serial\"><div class=\"sk-item\"><div class=\"sk-estimator sk-toggleable\"><input class=\"sk-toggleable__control sk-hidden--visually\" id=\"sk-estimator-id-18\" type=\"checkbox\" ><label for=\"sk-estimator-id-18\" class=\"sk-toggleable__label sk-toggleable__label-arrow\">XGBRegressor</label><div class=\"sk-toggleable__content\"><pre>XGBRegressor(base_score=None, booster=None, colsample_bylevel=None,\n",
       "             colsample_bynode=None, colsample_bytree=None, gamma=0, gpu_id=None,\n",
       "             importance_type=&#x27;gain&#x27;, interaction_constraints=None,\n",
       "             learning_rate=0.5, max_delta_step=None, max_depth=20,\n",
       "             min_child_weight=None, missing=nan, monotone_constraints=None,\n",
       "             n_estimators=800, n_jobs=None, num_parallel_tree=None,\n",
       "             random_state=None, reg_alpha=None, reg_lambda=1,\n",
       "             scale_pos_weight=None, subsample=None, tree_method=None,\n",
       "             validate_parameters=None, verbosity=None)</pre></div></div></div></div></div></div></div></div></div></div></div></div>"
      ],
      "text/plain": [
       "Pipeline(steps=[('columntransformer',\n",
       "                 ColumnTransformer(transformers=[('categorical',\n",
       "                                                  Pipeline(steps=[('imputation_mode',\n",
       "                                                                   SimpleImputer(strategy='most_frequent')),\n",
       "                                                                  ('onehot',\n",
       "                                                                   OneHotEncoder(drop='first',\n",
       "                                                                                 handle_unknown='ignore',\n",
       "                                                                                 sparse=False))]),\n",
       "                                                  <sklearn.compose._column_transformer.make_column_selector object at 0x00000180B6DFA610>),\n",
       "                                                 ('numerical',\n",
       "                                                  Pipeline(step...\n",
       "                                                             importance_type='gain',\n",
       "                                                             interaction_constraints=None,\n",
       "                                                             learning_rate=0.5,\n",
       "                                                             max_delta_step=None,\n",
       "                                                             max_depth=20,\n",
       "                                                             min_child_weight=None,\n",
       "                                                             missing=nan,\n",
       "                                                             monotone_constraints=None,\n",
       "                                                             n_estimators=800,\n",
       "                                                             n_jobs=None,\n",
       "                                                             num_parallel_tree=None,\n",
       "                                                             random_state=None,\n",
       "                                                             reg_alpha=None,\n",
       "                                                             reg_lambda=1,\n",
       "                                                             scale_pos_weight=None,\n",
       "                                                             subsample=None,\n",
       "                                                             tree_method=None,\n",
       "                                                             validate_parameters=None,\n",
       "                                                             verbosity=None)))])"
      ]
     },
     "execution_count": 44,
     "metadata": {},
     "output_type": "execute_result"
    }
   ],
   "source": [
    "pipe=make_pipeline(preprocessor,multioutputregressor)\n",
    "pipe"
   ]
  },
  {
   "cell_type": "code",
   "execution_count": 45,
   "id": "9dbbde59",
   "metadata": {},
   "outputs": [],
   "source": [
    "scaler_y=StandardScaler()\n",
    "y_train=scaler_y.fit_transform(y_train)\n",
    "y_test=scaler_y.transform(y_test)"
   ]
  },
  {
   "cell_type": "code",
   "execution_count": 46,
   "id": "9a3816a9",
   "metadata": {
    "scrolled": true
   },
   "outputs": [],
   "source": [
    "# train\n",
    "pipe_regression_model=pipe.fit(X_train,y_train)"
   ]
  },
  {
   "cell_type": "code",
   "execution_count": 47,
   "id": "46933028",
   "metadata": {},
   "outputs": [
    {
     "data": {
      "text/html": [
       "<style>#sk-container-id-3 {color: black;background-color: white;}#sk-container-id-3 pre{padding: 0;}#sk-container-id-3 div.sk-toggleable {background-color: white;}#sk-container-id-3 label.sk-toggleable__label {cursor: pointer;display: block;width: 100%;margin-bottom: 0;padding: 0.3em;box-sizing: border-box;text-align: center;}#sk-container-id-3 label.sk-toggleable__label-arrow:before {content: \"▸\";float: left;margin-right: 0.25em;color: #696969;}#sk-container-id-3 label.sk-toggleable__label-arrow:hover:before {color: black;}#sk-container-id-3 div.sk-estimator:hover label.sk-toggleable__label-arrow:before {color: black;}#sk-container-id-3 div.sk-toggleable__content {max-height: 0;max-width: 0;overflow: hidden;text-align: left;background-color: #f0f8ff;}#sk-container-id-3 div.sk-toggleable__content pre {margin: 0.2em;color: black;border-radius: 0.25em;background-color: #f0f8ff;}#sk-container-id-3 input.sk-toggleable__control:checked~div.sk-toggleable__content {max-height: 200px;max-width: 100%;overflow: auto;}#sk-container-id-3 input.sk-toggleable__control:checked~label.sk-toggleable__label-arrow:before {content: \"▾\";}#sk-container-id-3 div.sk-estimator input.sk-toggleable__control:checked~label.sk-toggleable__label {background-color: #d4ebff;}#sk-container-id-3 div.sk-label input.sk-toggleable__control:checked~label.sk-toggleable__label {background-color: #d4ebff;}#sk-container-id-3 input.sk-hidden--visually {border: 0;clip: rect(1px 1px 1px 1px);clip: rect(1px, 1px, 1px, 1px);height: 1px;margin: -1px;overflow: hidden;padding: 0;position: absolute;width: 1px;}#sk-container-id-3 div.sk-estimator {font-family: monospace;background-color: #f0f8ff;border: 1px dotted black;border-radius: 0.25em;box-sizing: border-box;margin-bottom: 0.5em;}#sk-container-id-3 div.sk-estimator:hover {background-color: #d4ebff;}#sk-container-id-3 div.sk-parallel-item::after {content: \"\";width: 100%;border-bottom: 1px solid gray;flex-grow: 1;}#sk-container-id-3 div.sk-label:hover label.sk-toggleable__label {background-color: #d4ebff;}#sk-container-id-3 div.sk-serial::before {content: \"\";position: absolute;border-left: 1px solid gray;box-sizing: border-box;top: 0;bottom: 0;left: 50%;z-index: 0;}#sk-container-id-3 div.sk-serial {display: flex;flex-direction: column;align-items: center;background-color: white;padding-right: 0.2em;padding-left: 0.2em;position: relative;}#sk-container-id-3 div.sk-item {position: relative;z-index: 1;}#sk-container-id-3 div.sk-parallel {display: flex;align-items: stretch;justify-content: center;background-color: white;position: relative;}#sk-container-id-3 div.sk-item::before, #sk-container-id-3 div.sk-parallel-item::before {content: \"\";position: absolute;border-left: 1px solid gray;box-sizing: border-box;top: 0;bottom: 0;left: 50%;z-index: -1;}#sk-container-id-3 div.sk-parallel-item {display: flex;flex-direction: column;z-index: 1;position: relative;background-color: white;}#sk-container-id-3 div.sk-parallel-item:first-child::after {align-self: flex-end;width: 50%;}#sk-container-id-3 div.sk-parallel-item:last-child::after {align-self: flex-start;width: 50%;}#sk-container-id-3 div.sk-parallel-item:only-child::after {width: 0;}#sk-container-id-3 div.sk-dashed-wrapped {border: 1px dashed gray;margin: 0 0.4em 0.5em 0.4em;box-sizing: border-box;padding-bottom: 0.4em;background-color: white;}#sk-container-id-3 div.sk-label label {font-family: monospace;font-weight: bold;display: inline-block;line-height: 1.2em;}#sk-container-id-3 div.sk-label-container {text-align: center;}#sk-container-id-3 div.sk-container {/* jupyter's `normalize.less` sets `[hidden] { display: none; }` but bootstrap.min.css set `[hidden] { display: none !important; }` so we also need the `!important` here to be able to override the default hidden behavior on the sphinx rendered scikit-learn.org. See: https://github.com/scikit-learn/scikit-learn/issues/21755 */display: inline-block !important;position: relative;}#sk-container-id-3 div.sk-text-repr-fallback {display: none;}</style><div id=\"sk-container-id-3\" class=\"sk-top-container\"><div class=\"sk-text-repr-fallback\"><pre>Pipeline(steps=[(&#x27;columntransformer&#x27;,\n",
       "                 ColumnTransformer(transformers=[(&#x27;categorical&#x27;,\n",
       "                                                  Pipeline(steps=[(&#x27;imputation_mode&#x27;,\n",
       "                                                                   SimpleImputer(strategy=&#x27;most_frequent&#x27;)),\n",
       "                                                                  (&#x27;onehot&#x27;,\n",
       "                                                                   OneHotEncoder(drop=&#x27;first&#x27;,\n",
       "                                                                                 handle_unknown=&#x27;ignore&#x27;,\n",
       "                                                                                 sparse=False))]),\n",
       "                                                  &lt;sklearn.compose._column_transformer.make_column_selector object at 0x00000180B6DFA610&gt;),\n",
       "                                                 (&#x27;numerical&#x27;,\n",
       "                                                  Pipeline(step...\n",
       "                                                             importance_type=&#x27;gain&#x27;,\n",
       "                                                             interaction_constraints=None,\n",
       "                                                             learning_rate=0.5,\n",
       "                                                             max_delta_step=None,\n",
       "                                                             max_depth=20,\n",
       "                                                             min_child_weight=None,\n",
       "                                                             missing=nan,\n",
       "                                                             monotone_constraints=None,\n",
       "                                                             n_estimators=800,\n",
       "                                                             n_jobs=None,\n",
       "                                                             num_parallel_tree=None,\n",
       "                                                             random_state=None,\n",
       "                                                             reg_alpha=None,\n",
       "                                                             reg_lambda=1,\n",
       "                                                             scale_pos_weight=None,\n",
       "                                                             subsample=None,\n",
       "                                                             tree_method=None,\n",
       "                                                             validate_parameters=None,\n",
       "                                                             verbosity=None)))])</pre><b>In a Jupyter environment, please rerun this cell to show the HTML representation or trust the notebook. <br />On GitHub, the HTML representation is unable to render, please try loading this page with nbviewer.org.</b></div><div class=\"sk-container\" hidden><div class=\"sk-item sk-dashed-wrapped\"><div class=\"sk-label-container\"><div class=\"sk-label sk-toggleable\"><input class=\"sk-toggleable__control sk-hidden--visually\" id=\"sk-estimator-id-19\" type=\"checkbox\" ><label for=\"sk-estimator-id-19\" class=\"sk-toggleable__label sk-toggleable__label-arrow\">Pipeline</label><div class=\"sk-toggleable__content\"><pre>Pipeline(steps=[(&#x27;columntransformer&#x27;,\n",
       "                 ColumnTransformer(transformers=[(&#x27;categorical&#x27;,\n",
       "                                                  Pipeline(steps=[(&#x27;imputation_mode&#x27;,\n",
       "                                                                   SimpleImputer(strategy=&#x27;most_frequent&#x27;)),\n",
       "                                                                  (&#x27;onehot&#x27;,\n",
       "                                                                   OneHotEncoder(drop=&#x27;first&#x27;,\n",
       "                                                                                 handle_unknown=&#x27;ignore&#x27;,\n",
       "                                                                                 sparse=False))]),\n",
       "                                                  &lt;sklearn.compose._column_transformer.make_column_selector object at 0x00000180B6DFA610&gt;),\n",
       "                                                 (&#x27;numerical&#x27;,\n",
       "                                                  Pipeline(step...\n",
       "                                                             importance_type=&#x27;gain&#x27;,\n",
       "                                                             interaction_constraints=None,\n",
       "                                                             learning_rate=0.5,\n",
       "                                                             max_delta_step=None,\n",
       "                                                             max_depth=20,\n",
       "                                                             min_child_weight=None,\n",
       "                                                             missing=nan,\n",
       "                                                             monotone_constraints=None,\n",
       "                                                             n_estimators=800,\n",
       "                                                             n_jobs=None,\n",
       "                                                             num_parallel_tree=None,\n",
       "                                                             random_state=None,\n",
       "                                                             reg_alpha=None,\n",
       "                                                             reg_lambda=1,\n",
       "                                                             scale_pos_weight=None,\n",
       "                                                             subsample=None,\n",
       "                                                             tree_method=None,\n",
       "                                                             validate_parameters=None,\n",
       "                                                             verbosity=None)))])</pre></div></div></div><div class=\"sk-serial\"><div class=\"sk-item sk-dashed-wrapped\"><div class=\"sk-label-container\"><div class=\"sk-label sk-toggleable\"><input class=\"sk-toggleable__control sk-hidden--visually\" id=\"sk-estimator-id-20\" type=\"checkbox\" ><label for=\"sk-estimator-id-20\" class=\"sk-toggleable__label sk-toggleable__label-arrow\">columntransformer: ColumnTransformer</label><div class=\"sk-toggleable__content\"><pre>ColumnTransformer(transformers=[(&#x27;categorical&#x27;,\n",
       "                                 Pipeline(steps=[(&#x27;imputation_mode&#x27;,\n",
       "                                                  SimpleImputer(strategy=&#x27;most_frequent&#x27;)),\n",
       "                                                 (&#x27;onehot&#x27;,\n",
       "                                                  OneHotEncoder(drop=&#x27;first&#x27;,\n",
       "                                                                handle_unknown=&#x27;ignore&#x27;,\n",
       "                                                                sparse=False))]),\n",
       "                                 &lt;sklearn.compose._column_transformer.make_column_selector object at 0x00000180B6DFA610&gt;),\n",
       "                                (&#x27;numerical&#x27;,\n",
       "                                 Pipeline(steps=[(&#x27;imputation_mean&#x27;,\n",
       "                                                  SimpleImputer()),\n",
       "                                                 (&#x27;scaler&#x27;, StandardScaler())]),\n",
       "                                 &lt;sklearn.compose._column_transformer.make_column_selector object at 0x00000180BA261880&gt;)])</pre></div></div></div><div class=\"sk-parallel\"><div class=\"sk-parallel-item\"><div class=\"sk-item\"><div class=\"sk-label-container\"><div class=\"sk-label sk-toggleable\"><input class=\"sk-toggleable__control sk-hidden--visually\" id=\"sk-estimator-id-21\" type=\"checkbox\" ><label for=\"sk-estimator-id-21\" class=\"sk-toggleable__label sk-toggleable__label-arrow\">categorical</label><div class=\"sk-toggleable__content\"><pre>&lt;sklearn.compose._column_transformer.make_column_selector object at 0x00000180B6DFA610&gt;</pre></div></div></div><div class=\"sk-serial\"><div class=\"sk-item\"><div class=\"sk-serial\"><div class=\"sk-item\"><div class=\"sk-estimator sk-toggleable\"><input class=\"sk-toggleable__control sk-hidden--visually\" id=\"sk-estimator-id-22\" type=\"checkbox\" ><label for=\"sk-estimator-id-22\" class=\"sk-toggleable__label sk-toggleable__label-arrow\">SimpleImputer</label><div class=\"sk-toggleable__content\"><pre>SimpleImputer(strategy=&#x27;most_frequent&#x27;)</pre></div></div></div><div class=\"sk-item\"><div class=\"sk-estimator sk-toggleable\"><input class=\"sk-toggleable__control sk-hidden--visually\" id=\"sk-estimator-id-23\" type=\"checkbox\" ><label for=\"sk-estimator-id-23\" class=\"sk-toggleable__label sk-toggleable__label-arrow\">OneHotEncoder</label><div class=\"sk-toggleable__content\"><pre>OneHotEncoder(drop=&#x27;first&#x27;, handle_unknown=&#x27;ignore&#x27;, sparse=False)</pre></div></div></div></div></div></div></div></div><div class=\"sk-parallel-item\"><div class=\"sk-item\"><div class=\"sk-label-container\"><div class=\"sk-label sk-toggleable\"><input class=\"sk-toggleable__control sk-hidden--visually\" id=\"sk-estimator-id-24\" type=\"checkbox\" ><label for=\"sk-estimator-id-24\" class=\"sk-toggleable__label sk-toggleable__label-arrow\">numerical</label><div class=\"sk-toggleable__content\"><pre>&lt;sklearn.compose._column_transformer.make_column_selector object at 0x00000180BA261880&gt;</pre></div></div></div><div class=\"sk-serial\"><div class=\"sk-item\"><div class=\"sk-serial\"><div class=\"sk-item\"><div class=\"sk-estimator sk-toggleable\"><input class=\"sk-toggleable__control sk-hidden--visually\" id=\"sk-estimator-id-25\" type=\"checkbox\" ><label for=\"sk-estimator-id-25\" class=\"sk-toggleable__label sk-toggleable__label-arrow\">SimpleImputer</label><div class=\"sk-toggleable__content\"><pre>SimpleImputer()</pre></div></div></div><div class=\"sk-item\"><div class=\"sk-estimator sk-toggleable\"><input class=\"sk-toggleable__control sk-hidden--visually\" id=\"sk-estimator-id-26\" type=\"checkbox\" ><label for=\"sk-estimator-id-26\" class=\"sk-toggleable__label sk-toggleable__label-arrow\">StandardScaler</label><div class=\"sk-toggleable__content\"><pre>StandardScaler()</pre></div></div></div></div></div></div></div></div></div></div><div class=\"sk-item sk-dashed-wrapped\"><div class=\"sk-label-container\"><div class=\"sk-label sk-toggleable\"><input class=\"sk-toggleable__control sk-hidden--visually\" id=\"sk-estimator-id-27\" type=\"checkbox\" ><label for=\"sk-estimator-id-27\" class=\"sk-toggleable__label sk-toggleable__label-arrow\">multioutputregressor: MultiOutputRegressor</label><div class=\"sk-toggleable__content\"><pre>MultiOutputRegressor(estimator=XGBRegressor(base_score=None, booster=None,\n",
       "                                            colsample_bylevel=None,\n",
       "                                            colsample_bynode=None,\n",
       "                                            colsample_bytree=None, gamma=0,\n",
       "                                            gpu_id=None, importance_type=&#x27;gain&#x27;,\n",
       "                                            interaction_constraints=None,\n",
       "                                            learning_rate=0.5,\n",
       "                                            max_delta_step=None, max_depth=20,\n",
       "                                            min_child_weight=None, missing=nan,\n",
       "                                            monotone_constraints=None,\n",
       "                                            n_estimators=800, n_jobs=None,\n",
       "                                            num_parallel_tree=None,\n",
       "                                            random_state=None, reg_alpha=None,\n",
       "                                            reg_lambda=1, scale_pos_weight=None,\n",
       "                                            subsample=None, tree_method=None,\n",
       "                                            validate_parameters=None,\n",
       "                                            verbosity=None))</pre></div></div></div><div class=\"sk-parallel\"><div class=\"sk-parallel-item\"><div class=\"sk-item\"><div class=\"sk-label-container\"><div class=\"sk-label sk-toggleable\"><input class=\"sk-toggleable__control sk-hidden--visually\" id=\"sk-estimator-id-28\" type=\"checkbox\" ><label for=\"sk-estimator-id-28\" class=\"sk-toggleable__label sk-toggleable__label-arrow\">estimator: XGBRegressor</label><div class=\"sk-toggleable__content\"><pre>XGBRegressor(base_score=None, booster=None, colsample_bylevel=None,\n",
       "             colsample_bynode=None, colsample_bytree=None, gamma=0, gpu_id=None,\n",
       "             importance_type=&#x27;gain&#x27;, interaction_constraints=None,\n",
       "             learning_rate=0.5, max_delta_step=None, max_depth=20,\n",
       "             min_child_weight=None, missing=nan, monotone_constraints=None,\n",
       "             n_estimators=800, n_jobs=None, num_parallel_tree=None,\n",
       "             random_state=None, reg_alpha=None, reg_lambda=1,\n",
       "             scale_pos_weight=None, subsample=None, tree_method=None,\n",
       "             validate_parameters=None, verbosity=None)</pre></div></div></div><div class=\"sk-serial\"><div class=\"sk-item\"><div class=\"sk-estimator sk-toggleable\"><input class=\"sk-toggleable__control sk-hidden--visually\" id=\"sk-estimator-id-29\" type=\"checkbox\" ><label for=\"sk-estimator-id-29\" class=\"sk-toggleable__label sk-toggleable__label-arrow\">XGBRegressor</label><div class=\"sk-toggleable__content\"><pre>XGBRegressor(base_score=None, booster=None, colsample_bylevel=None,\n",
       "             colsample_bynode=None, colsample_bytree=None, gamma=0, gpu_id=None,\n",
       "             importance_type=&#x27;gain&#x27;, interaction_constraints=None,\n",
       "             learning_rate=0.5, max_delta_step=None, max_depth=20,\n",
       "             min_child_weight=None, missing=nan, monotone_constraints=None,\n",
       "             n_estimators=800, n_jobs=None, num_parallel_tree=None,\n",
       "             random_state=None, reg_alpha=None, reg_lambda=1,\n",
       "             scale_pos_weight=None, subsample=None, tree_method=None,\n",
       "             validate_parameters=None, verbosity=None)</pre></div></div></div></div></div></div></div></div></div></div></div></div>"
      ],
      "text/plain": [
       "Pipeline(steps=[('columntransformer',\n",
       "                 ColumnTransformer(transformers=[('categorical',\n",
       "                                                  Pipeline(steps=[('imputation_mode',\n",
       "                                                                   SimpleImputer(strategy='most_frequent')),\n",
       "                                                                  ('onehot',\n",
       "                                                                   OneHotEncoder(drop='first',\n",
       "                                                                                 handle_unknown='ignore',\n",
       "                                                                                 sparse=False))]),\n",
       "                                                  <sklearn.compose._column_transformer.make_column_selector object at 0x00000180B6DFA610>),\n",
       "                                                 ('numerical',\n",
       "                                                  Pipeline(step...\n",
       "                                                             importance_type='gain',\n",
       "                                                             interaction_constraints=None,\n",
       "                                                             learning_rate=0.5,\n",
       "                                                             max_delta_step=None,\n",
       "                                                             max_depth=20,\n",
       "                                                             min_child_weight=None,\n",
       "                                                             missing=nan,\n",
       "                                                             monotone_constraints=None,\n",
       "                                                             n_estimators=800,\n",
       "                                                             n_jobs=None,\n",
       "                                                             num_parallel_tree=None,\n",
       "                                                             random_state=None,\n",
       "                                                             reg_alpha=None,\n",
       "                                                             reg_lambda=1,\n",
       "                                                             scale_pos_weight=None,\n",
       "                                                             subsample=None,\n",
       "                                                             tree_method=None,\n",
       "                                                             validate_parameters=None,\n",
       "                                                             verbosity=None)))])"
      ]
     },
     "execution_count": 47,
     "metadata": {},
     "output_type": "execute_result"
    }
   ],
   "source": [
    "pipe_regression_model"
   ]
  },
  {
   "cell_type": "code",
   "execution_count": 48,
   "id": "93a597a6",
   "metadata": {},
   "outputs": [],
   "source": [
    "y_pred=pipe.predict(X_test)"
   ]
  },
  {
   "cell_type": "code",
   "execution_count": 49,
   "id": "2de08217",
   "metadata": {},
   "outputs": [],
   "source": [
    "from sklearn.metrics import mean_squared_error, r2_score, mean_absolute_percentage_error"
   ]
  },
  {
   "cell_type": "code",
   "execution_count": 50,
   "id": "aa261fa4",
   "metadata": {},
   "outputs": [
    {
     "name": "stdout",
     "output_type": "stream",
     "text": [
      "Model Evaluation:\n",
      "mean_squared_error :  0.007998731415520379\n",
      "mean_absolute_percentage_error :  0.07436968422555092\n",
      "R2_score :  0.9919250726134026\n"
     ]
    }
   ],
   "source": [
    "# model evaluation\n",
    "print('Model Evaluation:')\n",
    "print('mean_squared_error : ', mean_squared_error(y_test, y_pred))\n",
    "print('mean_absolute_percentage_error : ', mean_absolute_percentage_error(y_test, y_pred))\n",
    "print('R2_score : ', r2_score(y_test, y_pred))"
   ]
  },
  {
   "cell_type": "code",
   "execution_count": 51,
   "id": "1f260302",
   "metadata": {},
   "outputs": [],
   "source": [
    "import matplotlib.pyplot as plt"
   ]
  },
  {
   "cell_type": "code",
   "execution_count": 52,
   "id": "ba18666a",
   "metadata": {},
   "outputs": [
    {
     "data": {
      "text/plain": [
       "Text(0.5, 1.0, 'Residual plot')"
      ]
     },
     "execution_count": 52,
     "metadata": {},
     "output_type": "execute_result"
    },
    {
     "data": {
      "image/png": "[encoded data removed]",
      "text/plain": [
       "<Figure size 432x288 with 1 Axes>"
      ]
     },
     "metadata": {
      "needs_background": "light"
     },
     "output_type": "display_data"
    }
   ],
   "source": [
    "x_plot = plt.scatter(y_pred, (y_pred - y_test), c='b')\n",
    "\n",
    "plt.hlines(y=0, xmin= -1000, xmax=5000)\n",
    "\n",
    "plt.title('Residual plot')"
   ]
  },
  {
   "cell_type": "code",
   "execution_count": 53,
   "id": "4145c5a2",
   "metadata": {},
   "outputs": [
    {
     "data": {
      "text/plain": [
       "array([0.5102058, 0.7963567, 1.0705498], dtype=float32)"
      ]
     },
     "execution_count": 53,
     "metadata": {},
     "output_type": "execute_result"
    }
   ],
   "source": [
    "y_pred[0]"
   ]
  },
  {
   "cell_type": "code",
   "execution_count": 54,
   "id": "5927f9d0",
   "metadata": {},
   "outputs": [
    {
     "data": {
      "text/plain": [
       "array([0.51022675, 0.79638884, 1.07054466])"
      ]
     },
     "execution_count": 54,
     "metadata": {},
     "output_type": "execute_result"
    }
   ],
   "source": [
    "y_test[0]"
   ]
  },
  {
   "cell_type": "code",
   "execution_count": 55,
   "id": "677e4866",
   "metadata": {},
   "outputs": [],
   "source": [
    "import pickle\n",
    "pickle.dump(pipe_regression_model,open('C:/Users/ASUS/TECHNOCOLAB_INTERNSHIP/ML_DEPLOYMENT_MODELS/regression_xgboost_pipeline.pkl',\"wb\"))"
   ]
  },
  {
   "cell_type": "code",
   "execution_count": null,
   "id": "f21d9b05",
   "metadata": {},
   "outputs": [],
   "source": [
    "# xgb = XGBRegressor(n_estimators=100)\n",
    "# xgb.fit(X_train, y_train)\n",
    "# sorted_idx = xgb.feature_importances_.argsort()\n",
    "# plt.barh(boston.feature_names[sorted_idx], xgb.feature_importances_[sorted_idx])\n",
    "# plt.xlabel(\"Xgboost Feature Importance\")"
   ]
  },
  {
   "cell_type": "code",
   "execution_count": 67,
   "id": "5ff410d0",
   "metadata": {},
   "outputs": [],
   "source": [
    "# pipe_regression_model.get_booster().get_score(importance_type='gain')"
   ]
  },
  {
   "cell_type": "code",
   "execution_count": 10,
   "id": "189e5979",
   "metadata": {},
   "outputs": [
    {
     "data": {
      "text/plain": [
       "array([False,  True])"
      ]
     },
     "execution_count": 10,
     "metadata": {},
     "output_type": "execute_result"
    }
   ],
   "source": [
    "data['Restructured'].unique()"
   ]
  },
  {
   "cell_type": "code",
   "execution_count": null,
   "id": "0a6f0822",
   "metadata": {},
   "outputs": [],
   "source": []
  }
 ],
 "metadata": {
  "kernelspec": {
   "display_name": "Python 3 (ipykernel)",
   "language": "python",
   "name": "python3"
  },
  "language_info": {
   "codemirror_mode": {
    "name": "ipython",
    "version": 3
   },
   "file_extension": ".py",
   "mimetype": "text/x-python",
   "name": "python",
   "nbconvert_exporter": "python",
   "pygments_lexer": "ipython3",
   "version": "3.9.12"
  }
 },
 "nbformat": 4,
 "nbformat_minor": 5
}
